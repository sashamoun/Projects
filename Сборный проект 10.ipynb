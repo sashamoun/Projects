{
 "cells": [
  {
   "cell_type": "markdown",
   "metadata": {},
   "source": [
    "\n",
    "# Сборный проект-2 #\n",
    "\n",
    "## Исследование пользователей мобильного приложения стартапа в сфере продажи продуктов питания ##\n",
    "\n",
    "Вы работаете в стартапе, который продаёт продукты питания. Нужно разобраться, как ведут себя пользователи вашего мобильного приложения.\n",
    "\n",
    "Изучите воронку продаж. Узнайте, как пользователи доходят до покупки. Сколько пользователей доходит до покупки, а сколько — «застревает» на предыдущих шагах? На каких именно?\n",
    "\n",
    "После этого исследуйте результаты A/A/B-эксперимента. Дизайнеры захотели поменять шрифты во всём приложении, а менеджеры испугались, что пользователям будет непривычно. Договорились принять решение по результатам A/A/B-теста. Пользователей разбили на 3 группы: 2 контрольные со старыми шрифтами и одну экспериментальную — с новыми. Выясните, какой шрифт лучше.\n",
    "\n",
    "Создание двух групп A вместо одной имеет определённые преимущества. Если две контрольные группы окажутся равны, вы можете быть уверены в точности проведенного тестирования. Если же между значениями A и A будут существенные различия, это поможет обнаружить факторы, которые привели к искажению результатов. Сравнение контрольных групп также помогает понять, сколько времени и данных потребуется для дальнейших тестов.\n",
    "\n",
    "В случае общей аналитики и A/A/B-эксперимента работайте с одними и теми же данными. В реальных проектах всегда идут эксперименты. Аналитики исследуют качество работы приложения по общим данным, не учитывая принадлежность пользователей к экспериментам.\n",
    "\n",
    "## Описание данных ## \n",
    "\n",
    "Каждая запись в логе — это действие пользователя, или событие.\n",
    "\n",
    "- EventName — название события;\n",
    "- DeviceIDHash — уникальный идентификатор пользователя;\n",
    "- EventTimestamp — время события;\n",
    "- ExpId — номер эксперимента: 246 и 247 — контрольные группы, а 248 — экспериментальная.\n",
    "\n",
    "### План и задачи проекта: ###\n",
    "\n",
    "1. Загрузить файл и изучить общую информацию.\n",
    "2. Заменить название столбцов.\n",
    "3. Проверить пропуски и типы данных.\n",
    "4. Добавить столбец даты и времени, а также отдельный столбец дат.\n",
    "5. Найти количество общее событий в логе.\n",
    "6. Найти количество общее пользователей в логе.\n",
    "7. Найти среднее количество событий на пользователя.\n",
    "8. Найти максимальную и минимальную дату. Построить гистограмму по дате и времени. \n",
    "9. Определить, с какого момента данные полные и отбросить более старые.\n",
    "\n",
    "Изучить воронку событий:\n",
    "\n",
    "10. Посмотреть, какие события есть в логах, как часто они встречаются. Отсортировать события по частоте.\n",
    "11. Посчитать, сколько пользователей совершали каждое из этих событий. Отсортировать события по числу пользователей. Посчитать долю пользователей, которые хоть раз совершали событие.\n",
    "12. Выдвинуть предположение, в каком порядке происходят события.\n",
    "13. Посчитать по воронке событий, какая доля пользователей проходит на следующий шаг воронки (от числа пользователей на предыдущем). \n",
    "14. Изучить, на каком шаге теряется больше всего пользователей.\n",
    "15. Изучить, какая доля пользователей доходит от первого события до оплаты?\n",
    "\n",
    "Изучите результаты эксперимента:\n",
    "\n",
    "16. Найти, сколько пользователей в каждой экспериментальной группе?\n",
    "17. Проверить корректность всех механизмов и расчётов А/А теста. Проверить, находят ли статистические критерии разницу между выборками 246 и 247.\n",
    "18. Выбрать самое популярное событие. Посчитать число пользователей, совершивших это событие в каждой из контрольных групп. Посчитать долю пользователей, совершивших это событие. Проверить, будет ли отличие между группами статистически достоверным. \n",
    "19. Проделать то же самое для всех других событий. \n",
    "20. Проделать те же действия с группой с изменённым шрифтом. Сравнить результаты с каждой из контрольных групп в отдельности по каждому событию. Сравнить результаты с объединённой контрольной группой. Сделать выводы из эксперимента.\n",
    "21. Посчитать, сколько проверок статистических гипотез сделано. Указать, какой уровень значимости стоит применить."
   ]
  },
  {
   "cell_type": "code",
   "execution_count": 1,
   "metadata": {},
   "outputs": [],
   "source": [
    "import pandas as pd\n",
    "import matplotlib.pyplot as plt\n",
    "import seaborn as sns\n",
    "import scipy.stats as stats\n",
    "from scipy import stats as st\n",
    "import math as mth\n",
    "import numpy as np\n",
    "import datetime as dt\n",
    "from plotly import graph_objects as go"
   ]
  },
  {
   "cell_type": "code",
   "execution_count": 2,
   "metadata": {},
   "outputs": [],
   "source": [
    "df = pd.read_csv('/datasets/logs_exp.csv', sep='\\t')"
   ]
  },
  {
   "cell_type": "code",
   "execution_count": 3,
   "metadata": {},
   "outputs": [
    {
     "data": {
      "text/html": [
       "<div>\n",
       "<style scoped>\n",
       "    .dataframe tbody tr th:only-of-type {\n",
       "        vertical-align: middle;\n",
       "    }\n",
       "\n",
       "    .dataframe tbody tr th {\n",
       "        vertical-align: top;\n",
       "    }\n",
       "\n",
       "    .dataframe thead th {\n",
       "        text-align: right;\n",
       "    }\n",
       "</style>\n",
       "<table border=\"1\" class=\"dataframe\">\n",
       "  <thead>\n",
       "    <tr style=\"text-align: right;\">\n",
       "      <th></th>\n",
       "      <th>EventName</th>\n",
       "      <th>DeviceIDHash</th>\n",
       "      <th>EventTimestamp</th>\n",
       "      <th>ExpId</th>\n",
       "    </tr>\n",
       "  </thead>\n",
       "  <tbody>\n",
       "    <tr>\n",
       "      <td>0</td>\n",
       "      <td>MainScreenAppear</td>\n",
       "      <td>4575588528974610257</td>\n",
       "      <td>1564029816</td>\n",
       "      <td>246</td>\n",
       "    </tr>\n",
       "    <tr>\n",
       "      <td>1</td>\n",
       "      <td>MainScreenAppear</td>\n",
       "      <td>7416695313311560658</td>\n",
       "      <td>1564053102</td>\n",
       "      <td>246</td>\n",
       "    </tr>\n",
       "    <tr>\n",
       "      <td>2</td>\n",
       "      <td>PaymentScreenSuccessful</td>\n",
       "      <td>3518123091307005509</td>\n",
       "      <td>1564054127</td>\n",
       "      <td>248</td>\n",
       "    </tr>\n",
       "    <tr>\n",
       "      <td>3</td>\n",
       "      <td>CartScreenAppear</td>\n",
       "      <td>3518123091307005509</td>\n",
       "      <td>1564054127</td>\n",
       "      <td>248</td>\n",
       "    </tr>\n",
       "    <tr>\n",
       "      <td>4</td>\n",
       "      <td>PaymentScreenSuccessful</td>\n",
       "      <td>6217807653094995999</td>\n",
       "      <td>1564055322</td>\n",
       "      <td>248</td>\n",
       "    </tr>\n",
       "  </tbody>\n",
       "</table>\n",
       "</div>"
      ],
      "text/plain": [
       "                 EventName         DeviceIDHash  EventTimestamp  ExpId\n",
       "0         MainScreenAppear  4575588528974610257      1564029816    246\n",
       "1         MainScreenAppear  7416695313311560658      1564053102    246\n",
       "2  PaymentScreenSuccessful  3518123091307005509      1564054127    248\n",
       "3         CartScreenAppear  3518123091307005509      1564054127    248\n",
       "4  PaymentScreenSuccessful  6217807653094995999      1564055322    248"
      ]
     },
     "execution_count": 3,
     "metadata": {},
     "output_type": "execute_result"
    }
   ],
   "source": [
    "df.head()"
   ]
  },
  {
   "cell_type": "code",
   "execution_count": 4,
   "metadata": {},
   "outputs": [
    {
     "name": "stdout",
     "output_type": "stream",
     "text": [
      "<class 'pandas.core.frame.DataFrame'>\n",
      "RangeIndex: 244126 entries, 0 to 244125\n",
      "Data columns (total 4 columns):\n",
      "EventName         244126 non-null object\n",
      "DeviceIDHash      244126 non-null int64\n",
      "EventTimestamp    244126 non-null int64\n",
      "ExpId             244126 non-null int64\n",
      "dtypes: int64(3), object(1)\n",
      "memory usage: 7.5+ MB\n"
     ]
    }
   ],
   "source": [
    "df.info()"
   ]
  },
  {
   "cell_type": "code",
   "execution_count": 5,
   "metadata": {},
   "outputs": [
    {
     "data": {
      "text/html": [
       "<div>\n",
       "<style scoped>\n",
       "    .dataframe tbody tr th:only-of-type {\n",
       "        vertical-align: middle;\n",
       "    }\n",
       "\n",
       "    .dataframe tbody tr th {\n",
       "        vertical-align: top;\n",
       "    }\n",
       "\n",
       "    .dataframe thead th {\n",
       "        text-align: right;\n",
       "    }\n",
       "</style>\n",
       "<table border=\"1\" class=\"dataframe\">\n",
       "  <thead>\n",
       "    <tr style=\"text-align: right;\">\n",
       "      <th></th>\n",
       "      <th>DeviceIDHash</th>\n",
       "      <th>EventTimestamp</th>\n",
       "      <th>ExpId</th>\n",
       "    </tr>\n",
       "  </thead>\n",
       "  <tbody>\n",
       "    <tr>\n",
       "      <td>count</td>\n",
       "      <td>2.441260e+05</td>\n",
       "      <td>2.441260e+05</td>\n",
       "      <td>244126.000000</td>\n",
       "    </tr>\n",
       "    <tr>\n",
       "      <td>mean</td>\n",
       "      <td>4.627568e+18</td>\n",
       "      <td>1.564914e+09</td>\n",
       "      <td>247.022296</td>\n",
       "    </tr>\n",
       "    <tr>\n",
       "      <td>std</td>\n",
       "      <td>2.642425e+18</td>\n",
       "      <td>1.771343e+05</td>\n",
       "      <td>0.824434</td>\n",
       "    </tr>\n",
       "    <tr>\n",
       "      <td>min</td>\n",
       "      <td>6.888747e+15</td>\n",
       "      <td>1.564030e+09</td>\n",
       "      <td>246.000000</td>\n",
       "    </tr>\n",
       "    <tr>\n",
       "      <td>25%</td>\n",
       "      <td>2.372212e+18</td>\n",
       "      <td>1.564757e+09</td>\n",
       "      <td>246.000000</td>\n",
       "    </tr>\n",
       "    <tr>\n",
       "      <td>50%</td>\n",
       "      <td>4.623192e+18</td>\n",
       "      <td>1.564919e+09</td>\n",
       "      <td>247.000000</td>\n",
       "    </tr>\n",
       "    <tr>\n",
       "      <td>75%</td>\n",
       "      <td>6.932517e+18</td>\n",
       "      <td>1.565075e+09</td>\n",
       "      <td>248.000000</td>\n",
       "    </tr>\n",
       "    <tr>\n",
       "      <td>max</td>\n",
       "      <td>9.222603e+18</td>\n",
       "      <td>1.565213e+09</td>\n",
       "      <td>248.000000</td>\n",
       "    </tr>\n",
       "  </tbody>\n",
       "</table>\n",
       "</div>"
      ],
      "text/plain": [
       "       DeviceIDHash  EventTimestamp          ExpId\n",
       "count  2.441260e+05    2.441260e+05  244126.000000\n",
       "mean   4.627568e+18    1.564914e+09     247.022296\n",
       "std    2.642425e+18    1.771343e+05       0.824434\n",
       "min    6.888747e+15    1.564030e+09     246.000000\n",
       "25%    2.372212e+18    1.564757e+09     246.000000\n",
       "50%    4.623192e+18    1.564919e+09     247.000000\n",
       "75%    6.932517e+18    1.565075e+09     248.000000\n",
       "max    9.222603e+18    1.565213e+09     248.000000"
      ]
     },
     "execution_count": 5,
     "metadata": {},
     "output_type": "execute_result"
    }
   ],
   "source": [
    "df.describe()"
   ]
  },
  {
   "cell_type": "code",
   "execution_count": 6,
   "metadata": {},
   "outputs": [
    {
     "name": "stdout",
     "output_type": "stream",
     "text": [
      "413\n"
     ]
    }
   ],
   "source": [
    "print(df.duplicated().sum())"
   ]
  },
  {
   "cell_type": "markdown",
   "metadata": {},
   "source": [
    "<div class=\"alert alert-success\">\n",
    "<b>Комментарий ревьюера:</b> 👍\n",
    "</div>"
   ]
  },
  {
   "cell_type": "markdown",
   "metadata": {},
   "source": [
    "В нашем датасете 413 дубликатов. Будем считать, что это ошибки и удалим эти значения.\n",
    "Пропусков нет.\n"
   ]
  },
  {
   "cell_type": "code",
   "execution_count": 7,
   "metadata": {},
   "outputs": [
    {
     "name": "stdout",
     "output_type": "stream",
     "text": [
      "0\n"
     ]
    }
   ],
   "source": [
    "df = df.drop_duplicates().reset_index(drop=True)\n",
    "print(df.duplicated().sum())"
   ]
  },
  {
   "cell_type": "markdown",
   "metadata": {},
   "source": [
    "Переименуем столбцы для дальнейшей работы."
   ]
  },
  {
   "cell_type": "code",
   "execution_count": 8,
   "metadata": {},
   "outputs": [
    {
     "data": {
      "text/plain": [
       "['EventName', 'DeviceIDHash', 'EventTimestamp', 'ExpId']"
      ]
     },
     "execution_count": 8,
     "metadata": {},
     "output_type": "execute_result"
    }
   ],
   "source": [
    "df.columns.tolist()"
   ]
  },
  {
   "cell_type": "code",
   "execution_count": 9,
   "metadata": {},
   "outputs": [],
   "source": [
    "df.columns = ['event_name', 'user_id', 'event_timestamp', 'exp_id']"
   ]
  },
  {
   "cell_type": "code",
   "execution_count": 10,
   "metadata": {},
   "outputs": [
    {
     "data": {
      "text/html": [
       "<div>\n",
       "<style scoped>\n",
       "    .dataframe tbody tr th:only-of-type {\n",
       "        vertical-align: middle;\n",
       "    }\n",
       "\n",
       "    .dataframe tbody tr th {\n",
       "        vertical-align: top;\n",
       "    }\n",
       "\n",
       "    .dataframe thead th {\n",
       "        text-align: right;\n",
       "    }\n",
       "</style>\n",
       "<table border=\"1\" class=\"dataframe\">\n",
       "  <thead>\n",
       "    <tr style=\"text-align: right;\">\n",
       "      <th></th>\n",
       "      <th>event_name</th>\n",
       "      <th>user_id</th>\n",
       "      <th>event_timestamp</th>\n",
       "      <th>exp_id</th>\n",
       "    </tr>\n",
       "  </thead>\n",
       "  <tbody>\n",
       "    <tr>\n",
       "      <td>0</td>\n",
       "      <td>MainScreenAppear</td>\n",
       "      <td>4575588528974610257</td>\n",
       "      <td>1564029816</td>\n",
       "      <td>246</td>\n",
       "    </tr>\n",
       "    <tr>\n",
       "      <td>1</td>\n",
       "      <td>MainScreenAppear</td>\n",
       "      <td>7416695313311560658</td>\n",
       "      <td>1564053102</td>\n",
       "      <td>246</td>\n",
       "    </tr>\n",
       "    <tr>\n",
       "      <td>2</td>\n",
       "      <td>PaymentScreenSuccessful</td>\n",
       "      <td>3518123091307005509</td>\n",
       "      <td>1564054127</td>\n",
       "      <td>248</td>\n",
       "    </tr>\n",
       "    <tr>\n",
       "      <td>3</td>\n",
       "      <td>CartScreenAppear</td>\n",
       "      <td>3518123091307005509</td>\n",
       "      <td>1564054127</td>\n",
       "      <td>248</td>\n",
       "    </tr>\n",
       "    <tr>\n",
       "      <td>4</td>\n",
       "      <td>PaymentScreenSuccessful</td>\n",
       "      <td>6217807653094995999</td>\n",
       "      <td>1564055322</td>\n",
       "      <td>248</td>\n",
       "    </tr>\n",
       "  </tbody>\n",
       "</table>\n",
       "</div>"
      ],
      "text/plain": [
       "                event_name              user_id  event_timestamp  exp_id\n",
       "0         MainScreenAppear  4575588528974610257       1564029816     246\n",
       "1         MainScreenAppear  7416695313311560658       1564053102     246\n",
       "2  PaymentScreenSuccessful  3518123091307005509       1564054127     248\n",
       "3         CartScreenAppear  3518123091307005509       1564054127     248\n",
       "4  PaymentScreenSuccessful  6217807653094995999       1564055322     248"
      ]
     },
     "execution_count": 10,
     "metadata": {},
     "output_type": "execute_result"
    }
   ],
   "source": [
    "df.head()"
   ]
  },
  {
   "cell_type": "markdown",
   "metadata": {},
   "source": [
    "Добавим столбец с датой и временем (вытащим из event_timestamp) и отдельный столбец с датой"
   ]
  },
  {
   "cell_type": "code",
   "execution_count": 11,
   "metadata": {},
   "outputs": [
    {
     "data": {
      "text/html": [
       "<div>\n",
       "<style scoped>\n",
       "    .dataframe tbody tr th:only-of-type {\n",
       "        vertical-align: middle;\n",
       "    }\n",
       "\n",
       "    .dataframe tbody tr th {\n",
       "        vertical-align: top;\n",
       "    }\n",
       "\n",
       "    .dataframe thead th {\n",
       "        text-align: right;\n",
       "    }\n",
       "</style>\n",
       "<table border=\"1\" class=\"dataframe\">\n",
       "  <thead>\n",
       "    <tr style=\"text-align: right;\">\n",
       "      <th></th>\n",
       "      <th>event_name</th>\n",
       "      <th>user_id</th>\n",
       "      <th>event_timestamp</th>\n",
       "      <th>exp_id</th>\n",
       "      <th>date_time</th>\n",
       "      <th>date</th>\n",
       "    </tr>\n",
       "  </thead>\n",
       "  <tbody>\n",
       "    <tr>\n",
       "      <td>0</td>\n",
       "      <td>MainScreenAppear</td>\n",
       "      <td>4575588528974610257</td>\n",
       "      <td>1564029816</td>\n",
       "      <td>246</td>\n",
       "      <td>2019-07-25 04:43:36</td>\n",
       "      <td>2019-07-25</td>\n",
       "    </tr>\n",
       "    <tr>\n",
       "      <td>1</td>\n",
       "      <td>MainScreenAppear</td>\n",
       "      <td>7416695313311560658</td>\n",
       "      <td>1564053102</td>\n",
       "      <td>246</td>\n",
       "      <td>2019-07-25 11:11:42</td>\n",
       "      <td>2019-07-25</td>\n",
       "    </tr>\n",
       "    <tr>\n",
       "      <td>2</td>\n",
       "      <td>PaymentScreenSuccessful</td>\n",
       "      <td>3518123091307005509</td>\n",
       "      <td>1564054127</td>\n",
       "      <td>248</td>\n",
       "      <td>2019-07-25 11:28:47</td>\n",
       "      <td>2019-07-25</td>\n",
       "    </tr>\n",
       "    <tr>\n",
       "      <td>3</td>\n",
       "      <td>CartScreenAppear</td>\n",
       "      <td>3518123091307005509</td>\n",
       "      <td>1564054127</td>\n",
       "      <td>248</td>\n",
       "      <td>2019-07-25 11:28:47</td>\n",
       "      <td>2019-07-25</td>\n",
       "    </tr>\n",
       "    <tr>\n",
       "      <td>4</td>\n",
       "      <td>PaymentScreenSuccessful</td>\n",
       "      <td>6217807653094995999</td>\n",
       "      <td>1564055322</td>\n",
       "      <td>248</td>\n",
       "      <td>2019-07-25 11:48:42</td>\n",
       "      <td>2019-07-25</td>\n",
       "    </tr>\n",
       "  </tbody>\n",
       "</table>\n",
       "</div>"
      ],
      "text/plain": [
       "                event_name              user_id  event_timestamp  exp_id  \\\n",
       "0         MainScreenAppear  4575588528974610257       1564029816     246   \n",
       "1         MainScreenAppear  7416695313311560658       1564053102     246   \n",
       "2  PaymentScreenSuccessful  3518123091307005509       1564054127     248   \n",
       "3         CartScreenAppear  3518123091307005509       1564054127     248   \n",
       "4  PaymentScreenSuccessful  6217807653094995999       1564055322     248   \n",
       "\n",
       "            date_time       date  \n",
       "0 2019-07-25 04:43:36 2019-07-25  \n",
       "1 2019-07-25 11:11:42 2019-07-25  \n",
       "2 2019-07-25 11:28:47 2019-07-25  \n",
       "3 2019-07-25 11:28:47 2019-07-25  \n",
       "4 2019-07-25 11:48:42 2019-07-25  "
      ]
     },
     "execution_count": 11,
     "metadata": {},
     "output_type": "execute_result"
    }
   ],
   "source": [
    "df['date_time'] = pd.to_datetime(df['event_timestamp'], unit='s')\n",
    "df['date'] = df['date_time'].astype('datetime64[D]')\n",
    "df.head()"
   ]
  },
  {
   "cell_type": "code",
   "execution_count": 12,
   "metadata": {},
   "outputs": [
    {
     "name": "stdout",
     "output_type": "stream",
     "text": [
      "<class 'pandas.core.frame.DataFrame'>\n",
      "RangeIndex: 243713 entries, 0 to 243712\n",
      "Data columns (total 6 columns):\n",
      "event_name         243713 non-null object\n",
      "user_id            243713 non-null int64\n",
      "event_timestamp    243713 non-null int64\n",
      "exp_id             243713 non-null int64\n",
      "date_time          243713 non-null datetime64[ns]\n",
      "date               243713 non-null datetime64[ns]\n",
      "dtypes: datetime64[ns](2), int64(3), object(1)\n",
      "memory usage: 11.2+ MB\n"
     ]
    }
   ],
   "source": [
    "df.info()"
   ]
  },
  {
   "cell_type": "markdown",
   "metadata": {},
   "source": [
    "Проверим, сколько в логе всего событий, пользователей и вычислим среднее количество событий на пользователя."
   ]
  },
  {
   "cell_type": "code",
   "execution_count": 13,
   "metadata": {},
   "outputs": [
    {
     "data": {
      "text/plain": [
       "array(['MainScreenAppear', 'PaymentScreenSuccessful', 'CartScreenAppear',\n",
       "       'OffersScreenAppear', 'Tutorial'], dtype=object)"
      ]
     },
     "execution_count": 13,
     "metadata": {},
     "output_type": "execute_result"
    }
   ],
   "source": [
    "df['event_name'].unique()"
   ]
  },
  {
   "cell_type": "markdown",
   "metadata": {},
   "source": [
    "Уникальных видов событий 5, теперь узнаем сколько всего событий было в логе (можно посмотреть и по df.info())."
   ]
  },
  {
   "cell_type": "code",
   "execution_count": 14,
   "metadata": {},
   "outputs": [
    {
     "name": "stdout",
     "output_type": "stream",
     "text": [
      "Всего событий в логе: 243713\n"
     ]
    }
   ],
   "source": [
    "print('Всего событий в логе:', len(df['event_name']))"
   ]
  },
  {
   "cell_type": "code",
   "execution_count": 15,
   "metadata": {},
   "outputs": [
    {
     "name": "stdout",
     "output_type": "stream",
     "text": [
      "Всего пользователей в логе: 7551\n"
     ]
    }
   ],
   "source": [
    "print('Всего пользователей в логе:', (df['user_id'].nunique()))"
   ]
  },
  {
   "cell_type": "code",
   "execution_count": 16,
   "metadata": {},
   "outputs": [
    {
     "name": "stdout",
     "output_type": "stream",
     "text": [
      "В среднем событий на пользователя: 32\n"
     ]
    }
   ],
   "source": [
    "print('В среднем событий на пользователя: {:.0f}'.format((len(df['event_name']) / df['user_id'].nunique())))"
   ]
  },
  {
   "cell_type": "code",
   "execution_count": 17,
   "metadata": {},
   "outputs": [
    {
     "data": {
      "text/plain": [
       "<matplotlib.axes._subplots.AxesSubplot at 0x7f57c0f81410>"
      ]
     },
     "execution_count": 17,
     "metadata": {},
     "output_type": "execute_result"
    },
    {
     "data": {
      "image/png": "[encoded data removed]",
      "text/plain": [
       "<Figure size 432x288 with 1 Axes>"
      ]
     },
     "metadata": {
      "needs_background": "light"
     },
     "output_type": "display_data"
    }
   ],
   "source": [
    "df.groupby('user_id')['event_name'].agg('count').hist(bins=30,range=(0,150))"
   ]
  },
  {
   "cell_type": "code",
   "execution_count": 18,
   "metadata": {},
   "outputs": [
    {
     "data": {
      "text/plain": [
       "20"
      ]
     },
     "execution_count": 18,
     "metadata": {},
     "output_type": "execute_result"
    }
   ],
   "source": [
    "median_events_per_user = int(df.groupby('user_id')['event_name'].agg('count').median())\n",
    "median_events_per_user"
   ]
  },
  {
   "cell_type": "markdown",
   "metadata": {},
   "source": [
    "<div class=\"alert alert-info\"> <b>\n",
    "</b> \n",
    "Распределение далеко от нормального. Здесь уместно использовать медианное значение - 20 событий на пользователя.\n",
    "    \n",
    "</div>\n"
   ]
  },
  {
   "cell_type": "markdown",
   "metadata": {},
   "source": [
    "Найдем максимальную и минимальную дату, построим распределение по дате и времени."
   ]
  },
  {
   "cell_type": "code",
   "execution_count": 19,
   "metadata": {},
   "outputs": [
    {
     "name": "stdout",
     "output_type": "stream",
     "text": [
      "Максимальная дата: 2019-08-07 21:15:17\n",
      "Минимальная дата: 2019-07-25 04:43:36\n"
     ]
    }
   ],
   "source": [
    "print('Максимальная дата:', df['date_time'].max())\n",
    "print('Минимальная дата:', df['date_time'].min())"
   ]
  },
  {
   "cell_type": "markdown",
   "metadata": {},
   "source": [
    "В нашем датасете данные с 25 июля по 7 августа 2019 года."
   ]
  },
  {
   "cell_type": "code",
   "execution_count": 20,
   "metadata": {},
   "outputs": [
    {
     "data": {
      "text/html": [
       "<div>\n",
       "<style scoped>\n",
       "    .dataframe tbody tr th:only-of-type {\n",
       "        vertical-align: middle;\n",
       "    }\n",
       "\n",
       "    .dataframe tbody tr th {\n",
       "        vertical-align: top;\n",
       "    }\n",
       "\n",
       "    .dataframe thead th {\n",
       "        text-align: right;\n",
       "    }\n",
       "</style>\n",
       "<table border=\"1\" class=\"dataframe\">\n",
       "  <thead>\n",
       "    <tr style=\"text-align: right;\">\n",
       "      <th></th>\n",
       "      <th>event_name</th>\n",
       "    </tr>\n",
       "    <tr>\n",
       "      <th>date</th>\n",
       "      <th></th>\n",
       "    </tr>\n",
       "  </thead>\n",
       "  <tbody>\n",
       "    <tr>\n",
       "      <td>2019-07-25</td>\n",
       "      <td>9</td>\n",
       "    </tr>\n",
       "    <tr>\n",
       "      <td>2019-07-26</td>\n",
       "      <td>31</td>\n",
       "    </tr>\n",
       "    <tr>\n",
       "      <td>2019-07-27</td>\n",
       "      <td>55</td>\n",
       "    </tr>\n",
       "    <tr>\n",
       "      <td>2019-07-28</td>\n",
       "      <td>105</td>\n",
       "    </tr>\n",
       "    <tr>\n",
       "      <td>2019-07-29</td>\n",
       "      <td>184</td>\n",
       "    </tr>\n",
       "    <tr>\n",
       "      <td>2019-07-30</td>\n",
       "      <td>412</td>\n",
       "    </tr>\n",
       "    <tr>\n",
       "      <td>2019-07-31</td>\n",
       "      <td>2030</td>\n",
       "    </tr>\n",
       "    <tr>\n",
       "      <td>2019-08-01</td>\n",
       "      <td>36141</td>\n",
       "    </tr>\n",
       "    <tr>\n",
       "      <td>2019-08-02</td>\n",
       "      <td>35554</td>\n",
       "    </tr>\n",
       "    <tr>\n",
       "      <td>2019-08-03</td>\n",
       "      <td>33282</td>\n",
       "    </tr>\n",
       "    <tr>\n",
       "      <td>2019-08-04</td>\n",
       "      <td>32968</td>\n",
       "    </tr>\n",
       "    <tr>\n",
       "      <td>2019-08-05</td>\n",
       "      <td>36058</td>\n",
       "    </tr>\n",
       "    <tr>\n",
       "      <td>2019-08-06</td>\n",
       "      <td>35788</td>\n",
       "    </tr>\n",
       "    <tr>\n",
       "      <td>2019-08-07</td>\n",
       "      <td>31096</td>\n",
       "    </tr>\n",
       "  </tbody>\n",
       "</table>\n",
       "</div>"
      ],
      "text/plain": [
       "            event_name\n",
       "date                  \n",
       "2019-07-25           9\n",
       "2019-07-26          31\n",
       "2019-07-27          55\n",
       "2019-07-28         105\n",
       "2019-07-29         184\n",
       "2019-07-30         412\n",
       "2019-07-31        2030\n",
       "2019-08-01       36141\n",
       "2019-08-02       35554\n",
       "2019-08-03       33282\n",
       "2019-08-04       32968\n",
       "2019-08-05       36058\n",
       "2019-08-06       35788\n",
       "2019-08-07       31096"
      ]
     },
     "execution_count": 20,
     "metadata": {},
     "output_type": "execute_result"
    }
   ],
   "source": [
    "df_date_grouped = df.groupby('date').agg({'event_name':'count'})\n",
    "df_date_grouped"
   ]
  },
  {
   "cell_type": "code",
   "execution_count": 21,
   "metadata": {},
   "outputs": [],
   "source": [
    "#Сразу сделаю функцию для будущих графиков barplot\n",
    "def barplot(data, title, x_label, y_label):\n",
    "    data.plot.bar()\n",
    "    plt.title(title)\n",
    "    plt.xlabel(x_label)\n",
    "    plt.ylabel(y_label)\n",
    "    plt.xticks(rotation=90)\n",
    "    plt.grid(True);"
   ]
  },
  {
   "cell_type": "code",
   "execution_count": 22,
   "metadata": {},
   "outputs": [
    {
     "data": {
      "image/png": "[encoded data removed]",
      "text/plain": [
       "<Figure size 432x288 with 1 Axes>"
      ]
     },
     "metadata": {
      "needs_background": "light"
     },
     "output_type": "display_data"
    }
   ],
   "source": [
    "barplot(df_date_grouped,'Распределение логов по дате', 'Дата', 'Количество логов')"
   ]
  },
  {
   "cell_type": "markdown",
   "metadata": {},
   "source": [
    "Скорее всего, полные данные начинаются только с 1 августа. \n",
    "\n",
    "Оставляем только полные данные."
   ]
  },
  {
   "cell_type": "code",
   "execution_count": 23,
   "metadata": {},
   "outputs": [
    {
     "name": "stdout",
     "output_type": "stream",
     "text": [
      "<class 'pandas.core.frame.DataFrame'>\n",
      "Int64Index: 240887 entries, 2826 to 243712\n",
      "Data columns (total 6 columns):\n",
      "event_name         240887 non-null object\n",
      "user_id            240887 non-null int64\n",
      "event_timestamp    240887 non-null int64\n",
      "exp_id             240887 non-null int64\n",
      "date_time          240887 non-null datetime64[ns]\n",
      "date               240887 non-null datetime64[ns]\n",
      "dtypes: datetime64[ns](2), int64(3), object(1)\n",
      "memory usage: 12.9+ MB\n"
     ]
    }
   ],
   "source": [
    "df = df[df['date_time']>='2019-08-01 00:00']\n",
    "df.info()"
   ]
  },
  {
   "cell_type": "code",
   "execution_count": 24,
   "metadata": {},
   "outputs": [
    {
     "name": "stdout",
     "output_type": "stream",
     "text": [
      "Всего пользователей в логе: 7534\n"
     ]
    }
   ],
   "source": [
    "print('Всего пользователей в логе:', (df['user_id'].nunique()))"
   ]
  },
  {
   "cell_type": "markdown",
   "metadata": {},
   "source": [
    "Было 243713 логов, после чистки 240887 логов. Удалили 2826 значений.\n",
    "Было - 7551 уникальных пользователей, стало 7534 пользователя. Удалили 17 пользователей.\n",
    "\n",
    "Проверим, наличие всех 3 экспериментальных групп в новом датасете."
   ]
  },
  {
   "cell_type": "code",
   "execution_count": 25,
   "metadata": {},
   "outputs": [
    {
     "data": {
      "text/html": [
       "<div>\n",
       "<style scoped>\n",
       "    .dataframe tbody tr th:only-of-type {\n",
       "        vertical-align: middle;\n",
       "    }\n",
       "\n",
       "    .dataframe tbody tr th {\n",
       "        vertical-align: top;\n",
       "    }\n",
       "\n",
       "    .dataframe thead th {\n",
       "        text-align: right;\n",
       "    }\n",
       "</style>\n",
       "<table border=\"1\" class=\"dataframe\">\n",
       "  <thead>\n",
       "    <tr style=\"text-align: right;\">\n",
       "      <th></th>\n",
       "      <th>user_id</th>\n",
       "    </tr>\n",
       "    <tr>\n",
       "      <th>exp_id</th>\n",
       "      <th></th>\n",
       "    </tr>\n",
       "  </thead>\n",
       "  <tbody>\n",
       "    <tr>\n",
       "      <td>246</td>\n",
       "      <td>2484</td>\n",
       "    </tr>\n",
       "    <tr>\n",
       "      <td>247</td>\n",
       "      <td>2513</td>\n",
       "    </tr>\n",
       "    <tr>\n",
       "      <td>248</td>\n",
       "      <td>2537</td>\n",
       "    </tr>\n",
       "  </tbody>\n",
       "</table>\n",
       "</div>"
      ],
      "text/plain": [
       "        user_id\n",
       "exp_id         \n",
       "246        2484\n",
       "247        2513\n",
       "248        2537"
      ]
     },
     "execution_count": 25,
     "metadata": {},
     "output_type": "execute_result"
    }
   ],
   "source": [
    "df_exp_grouped = df.groupby('exp_id').agg({'user_id':'nunique'})\n",
    "df_exp_grouped"
   ]
  },
  {
   "cell_type": "markdown",
   "metadata": {},
   "source": [
    "Пользователи всех групп присутствуют в новом датасете почти в равной пропорции.\n",
    "\n",
    "Теперь посмотрим, какие события есть в логах и частоту их встречаемости."
   ]
  },
  {
   "cell_type": "code",
   "execution_count": 26,
   "metadata": {},
   "outputs": [
    {
     "data": {
      "text/html": [
       "<div>\n",
       "<style scoped>\n",
       "    .dataframe tbody tr th:only-of-type {\n",
       "        vertical-align: middle;\n",
       "    }\n",
       "\n",
       "    .dataframe tbody tr th {\n",
       "        vertical-align: top;\n",
       "    }\n",
       "\n",
       "    .dataframe thead th {\n",
       "        text-align: right;\n",
       "    }\n",
       "</style>\n",
       "<table border=\"1\" class=\"dataframe\">\n",
       "  <thead>\n",
       "    <tr style=\"text-align: right;\">\n",
       "      <th></th>\n",
       "      <th>event_name</th>\n",
       "      <th>user_id</th>\n",
       "    </tr>\n",
       "  </thead>\n",
       "  <tbody>\n",
       "    <tr>\n",
       "      <td>0</td>\n",
       "      <td>MainScreenAppear</td>\n",
       "      <td>117328</td>\n",
       "    </tr>\n",
       "    <tr>\n",
       "      <td>1</td>\n",
       "      <td>OffersScreenAppear</td>\n",
       "      <td>46333</td>\n",
       "    </tr>\n",
       "    <tr>\n",
       "      <td>2</td>\n",
       "      <td>CartScreenAppear</td>\n",
       "      <td>42303</td>\n",
       "    </tr>\n",
       "    <tr>\n",
       "      <td>3</td>\n",
       "      <td>PaymentScreenSuccessful</td>\n",
       "      <td>33918</td>\n",
       "    </tr>\n",
       "    <tr>\n",
       "      <td>4</td>\n",
       "      <td>Tutorial</td>\n",
       "      <td>1005</td>\n",
       "    </tr>\n",
       "  </tbody>\n",
       "</table>\n",
       "</div>"
      ],
      "text/plain": [
       "                event_name  user_id\n",
       "0         MainScreenAppear   117328\n",
       "1       OffersScreenAppear    46333\n",
       "2         CartScreenAppear    42303\n",
       "3  PaymentScreenSuccessful    33918\n",
       "4                 Tutorial     1005"
      ]
     },
     "execution_count": 26,
     "metadata": {},
     "output_type": "execute_result"
    }
   ],
   "source": [
    "df_event_name_grouped = df.groupby('event_name').agg({'user_id':'count'}).sort_values(by='user_id', ascending=False).reset_index()\n",
    "df_event_name_grouped"
   ]
  },
  {
   "cell_type": "code",
   "execution_count": 27,
   "metadata": {},
   "outputs": [
    {
     "data": {
      "image/png": "[encoded data removed]",
      "text/plain": [
       "<Figure size 432x288 with 1 Axes>"
      ]
     },
     "metadata": {
      "needs_background": "light"
     },
     "output_type": "display_data"
    }
   ],
   "source": [
    "barplot(df_event_name_grouped, 'Распределение логов по видам событий', 'Событие', 'Количество логов')"
   ]
  },
  {
   "cell_type": "code",
   "execution_count": 28,
   "metadata": {},
   "outputs": [
    {
     "data": {
      "text/plain": [
       "Text(0.5, 1.0, 'Распределение логов по видам событий')"
      ]
     },
     "execution_count": 28,
     "metadata": {},
     "output_type": "execute_result"
    },
    {
     "data": {
      "image/png": "[encoded data removed]",
      "text/plain": [
       "<Figure size 432x288 with 1 Axes>"
      ]
     },
     "metadata": {
      "needs_background": "light"
     },
     "output_type": "display_data"
    }
   ],
   "source": [
    "ax = sns.barplot(y='event_name', x='user_id', data=df_event_name_grouped)\n",
    "ax.set_title('Распределение логов по видам событий')"
   ]
  },
  {
   "cell_type": "markdown",
   "metadata": {},
   "source": [
    "<div class=\"alert alert-success\">\n",
    "<b>Комментарий ревьюера v2:</b> Да, то что нужно!\n",
    "</div>"
   ]
  },
  {
   "cell_type": "markdown",
   "metadata": {},
   "source": [
    "Посчитаем, сколько пользователей совершали каждое из этих событий. Посчитаем долю пользователей, которые хоть раз совершали событие."
   ]
  },
  {
   "cell_type": "code",
   "execution_count": 29,
   "metadata": {},
   "outputs": [
    {
     "data": {
      "text/html": [
       "<div>\n",
       "<style scoped>\n",
       "    .dataframe tbody tr th:only-of-type {\n",
       "        vertical-align: middle;\n",
       "    }\n",
       "\n",
       "    .dataframe tbody tr th {\n",
       "        vertical-align: top;\n",
       "    }\n",
       "\n",
       "    .dataframe thead th {\n",
       "        text-align: right;\n",
       "    }\n",
       "</style>\n",
       "<table border=\"1\" class=\"dataframe\">\n",
       "  <thead>\n",
       "    <tr style=\"text-align: right;\">\n",
       "      <th></th>\n",
       "      <th>user_id</th>\n",
       "    </tr>\n",
       "    <tr>\n",
       "      <th>event_name</th>\n",
       "      <th></th>\n",
       "    </tr>\n",
       "  </thead>\n",
       "  <tbody>\n",
       "    <tr>\n",
       "      <td>MainScreenAppear</td>\n",
       "      <td>7419</td>\n",
       "    </tr>\n",
       "    <tr>\n",
       "      <td>OffersScreenAppear</td>\n",
       "      <td>4593</td>\n",
       "    </tr>\n",
       "    <tr>\n",
       "      <td>CartScreenAppear</td>\n",
       "      <td>3734</td>\n",
       "    </tr>\n",
       "    <tr>\n",
       "      <td>PaymentScreenSuccessful</td>\n",
       "      <td>3539</td>\n",
       "    </tr>\n",
       "    <tr>\n",
       "      <td>Tutorial</td>\n",
       "      <td>840</td>\n",
       "    </tr>\n",
       "  </tbody>\n",
       "</table>\n",
       "</div>"
      ],
      "text/plain": [
       "                         user_id\n",
       "event_name                      \n",
       "MainScreenAppear            7419\n",
       "OffersScreenAppear          4593\n",
       "CartScreenAppear            3734\n",
       "PaymentScreenSuccessful     3539\n",
       "Tutorial                     840"
      ]
     },
     "execution_count": 29,
     "metadata": {},
     "output_type": "execute_result"
    }
   ],
   "source": [
    "df_event_name_grouped_uniq_users = df.groupby('event_name').agg({'user_id':'nunique'}).sort_values(by='user_id', ascending=False)\n",
    "df_event_name_grouped_uniq_users"
   ]
  },
  {
   "cell_type": "code",
   "execution_count": 30,
   "metadata": {},
   "outputs": [
    {
     "data": {
      "image/png": "[encoded data removed]",
      "text/plain": [
       "<Figure size 432x288 with 1 Axes>"
      ]
     },
     "metadata": {
      "needs_background": "light"
     },
     "output_type": "display_data"
    }
   ],
   "source": [
    "barplot(df_event_name_grouped_uniq_users, 'Распределение уникальных пользователей по видам событий', 'Событие', 'Количество уникальных ползователей')"
   ]
  },
  {
   "cell_type": "code",
   "execution_count": 31,
   "metadata": {},
   "outputs": [
    {
     "data": {
      "text/plain": [
       "7534"
      ]
     },
     "execution_count": 31,
     "metadata": {},
     "output_type": "execute_result"
    }
   ],
   "source": [
    "total_users = df['user_id'].nunique()\n",
    "total_users"
   ]
  },
  {
   "cell_type": "code",
   "execution_count": 32,
   "metadata": {},
   "outputs": [
    {
     "data": {
      "text/html": [
       "<div>\n",
       "<style scoped>\n",
       "    .dataframe tbody tr th:only-of-type {\n",
       "        vertical-align: middle;\n",
       "    }\n",
       "\n",
       "    .dataframe tbody tr th {\n",
       "        vertical-align: top;\n",
       "    }\n",
       "\n",
       "    .dataframe thead th {\n",
       "        text-align: right;\n",
       "    }\n",
       "</style>\n",
       "<table border=\"1\" class=\"dataframe\">\n",
       "  <thead>\n",
       "    <tr style=\"text-align: right;\">\n",
       "      <th></th>\n",
       "      <th>user_id</th>\n",
       "      <th>share_of_total</th>\n",
       "    </tr>\n",
       "    <tr>\n",
       "      <th>event_name</th>\n",
       "      <th></th>\n",
       "      <th></th>\n",
       "    </tr>\n",
       "  </thead>\n",
       "  <tbody>\n",
       "    <tr>\n",
       "      <td>MainScreenAppear</td>\n",
       "      <td>7419</td>\n",
       "      <td>0.985</td>\n",
       "    </tr>\n",
       "    <tr>\n",
       "      <td>OffersScreenAppear</td>\n",
       "      <td>4593</td>\n",
       "      <td>0.610</td>\n",
       "    </tr>\n",
       "    <tr>\n",
       "      <td>CartScreenAppear</td>\n",
       "      <td>3734</td>\n",
       "      <td>0.496</td>\n",
       "    </tr>\n",
       "    <tr>\n",
       "      <td>PaymentScreenSuccessful</td>\n",
       "      <td>3539</td>\n",
       "      <td>0.470</td>\n",
       "    </tr>\n",
       "    <tr>\n",
       "      <td>Tutorial</td>\n",
       "      <td>840</td>\n",
       "      <td>0.111</td>\n",
       "    </tr>\n",
       "  </tbody>\n",
       "</table>\n",
       "</div>"
      ],
      "text/plain": [
       "                         user_id  share_of_total\n",
       "event_name                                      \n",
       "MainScreenAppear            7419           0.985\n",
       "OffersScreenAppear          4593           0.610\n",
       "CartScreenAppear            3734           0.496\n",
       "PaymentScreenSuccessful     3539           0.470\n",
       "Tutorial                     840           0.111"
      ]
     },
     "execution_count": 32,
     "metadata": {},
     "output_type": "execute_result"
    }
   ],
   "source": [
    "df_event_name_grouped_uniq_users['share_of_total'] = round(df_event_name_grouped_uniq_users['user_id'] / total_users, 3)\n",
    "df_event_name_grouped_uniq_users\n"
   ]
  },
  {
   "cell_type": "code",
   "execution_count": 33,
   "metadata": {},
   "outputs": [
    {
     "name": "stdout",
     "output_type": "stream",
     "text": [
      "                         user_id share_of_total\n",
      "event_name                                     \n",
      "MainScreenAppear            7419         98.50%\n",
      "OffersScreenAppear          4593         61.00%\n",
      "CartScreenAppear            3734         49.60%\n",
      "PaymentScreenSuccessful     3539         47.00%\n",
      "Tutorial                     840         11.10%\n"
     ]
    }
   ],
   "source": [
    "output = df_event_name_grouped_uniq_users.to_string(formatters={'share_of_total': '{:,.2%}'.format})\n",
    "print(output)"
   ]
  },
  {
   "cell_type": "markdown",
   "metadata": {},
   "source": [
    "<div class=\"alert alert-success\">\n",
    "<b>Комментарий ревьюера v2:</b> 👍\n",
    "</div>"
   ]
  },
  {
   "cell_type": "markdown",
   "metadata": {},
   "source": [
    "До последнего этапа (Tutorial) дошли только 11% пользователей (хотя нет 100% уверенности, что обучение - это следующий этап в воронке). Также немного странно, что первое действие совершили не 100%. Скорее всего данные об их первом действии (MainScreenAppear) попали в ту часть, которую мы отсекли (до 31 июля)."
   ]
  },
  {
   "cell_type": "markdown",
   "metadata": {},
   "source": [
    "Предположите, в каком порядке происходят события. Все ли они выстраиваются в последовательную цепочку? Их не нужно учитывать при расчёте воронки.\n",
    "\n",
    "Скорее всего, воронка выглядит следующим образом:\n",
    "1. Пользователь заходит на главную страницу (MainScreenAppear).\n",
    "2. Далее заходит на экран предложений (OffersScreenAppear).\n",
    "3. Далее заходит на страницу оплаты (CartScreenAppear).\t\n",
    "4. Далее совершает успешную покупку (PaymentScreenSuccessful)\n",
    "*5. Далее следует обучение (но обучение, возможно, уже не входит в воронку. Скорее всего, целевое действие заканчивается на покупке, а обучение - это уже личное дело каждого покупателя. Поэтому пока что будем считать, что воронка заканчивается на 4 шаге.)"
   ]
  },
  {
   "cell_type": "markdown",
   "metadata": {},
   "source": [
    "<div class=\"alert alert-success\">\n",
    "<b>Комментарий ревьюера: </b> Обучение чему? :) Верно, Туториал можно исключить.\n",
    "</div>"
   ]
  },
  {
   "cell_type": "markdown",
   "metadata": {},
   "source": [
    "Теперь посмотрим, какая доля пользователей проходит на каждый последующий шаг воронки. Строим сводную таблицу, где будут указаны минимальное время прохождения каждого шага. (если пользователь не перешел на следующий шаг воронки, то в таблице будет пропуск)"
   ]
  },
  {
   "cell_type": "code",
   "execution_count": 34,
   "metadata": {},
   "outputs": [
    {
     "data": {
      "text/html": [
       "<div>\n",
       "<style scoped>\n",
       "    .dataframe tbody tr th:only-of-type {\n",
       "        vertical-align: middle;\n",
       "    }\n",
       "\n",
       "    .dataframe tbody tr th {\n",
       "        vertical-align: top;\n",
       "    }\n",
       "\n",
       "    .dataframe thead th {\n",
       "        text-align: right;\n",
       "    }\n",
       "</style>\n",
       "<table border=\"1\" class=\"dataframe\">\n",
       "  <thead>\n",
       "    <tr style=\"text-align: right;\">\n",
       "      <th></th>\n",
       "      <th>event_name</th>\n",
       "      <th>user_id</th>\n",
       "      <th>event_timestamp</th>\n",
       "      <th>exp_id</th>\n",
       "      <th>date_time</th>\n",
       "      <th>date</th>\n",
       "    </tr>\n",
       "  </thead>\n",
       "  <tbody>\n",
       "    <tr>\n",
       "      <td>2826</td>\n",
       "      <td>Tutorial</td>\n",
       "      <td>3737462046622621720</td>\n",
       "      <td>1564618048</td>\n",
       "      <td>246</td>\n",
       "      <td>2019-08-01 00:07:28</td>\n",
       "      <td>2019-08-01</td>\n",
       "    </tr>\n",
       "    <tr>\n",
       "      <td>2827</td>\n",
       "      <td>MainScreenAppear</td>\n",
       "      <td>3737462046622621720</td>\n",
       "      <td>1564618080</td>\n",
       "      <td>246</td>\n",
       "      <td>2019-08-01 00:08:00</td>\n",
       "      <td>2019-08-01</td>\n",
       "    </tr>\n",
       "    <tr>\n",
       "      <td>2828</td>\n",
       "      <td>MainScreenAppear</td>\n",
       "      <td>3737462046622621720</td>\n",
       "      <td>1564618135</td>\n",
       "      <td>246</td>\n",
       "      <td>2019-08-01 00:08:55</td>\n",
       "      <td>2019-08-01</td>\n",
       "    </tr>\n",
       "    <tr>\n",
       "      <td>2829</td>\n",
       "      <td>OffersScreenAppear</td>\n",
       "      <td>3737462046622621720</td>\n",
       "      <td>1564618138</td>\n",
       "      <td>246</td>\n",
       "      <td>2019-08-01 00:08:58</td>\n",
       "      <td>2019-08-01</td>\n",
       "    </tr>\n",
       "    <tr>\n",
       "      <td>2830</td>\n",
       "      <td>MainScreenAppear</td>\n",
       "      <td>1433840883824088890</td>\n",
       "      <td>1564618139</td>\n",
       "      <td>247</td>\n",
       "      <td>2019-08-01 00:08:59</td>\n",
       "      <td>2019-08-01</td>\n",
       "    </tr>\n",
       "  </tbody>\n",
       "</table>\n",
       "</div>"
      ],
      "text/plain": [
       "              event_name              user_id  event_timestamp  exp_id  \\\n",
       "2826            Tutorial  3737462046622621720       1564618048     246   \n",
       "2827    MainScreenAppear  3737462046622621720       1564618080     246   \n",
       "2828    MainScreenAppear  3737462046622621720       1564618135     246   \n",
       "2829  OffersScreenAppear  3737462046622621720       1564618138     246   \n",
       "2830    MainScreenAppear  1433840883824088890       1564618139     247   \n",
       "\n",
       "               date_time       date  \n",
       "2826 2019-08-01 00:07:28 2019-08-01  \n",
       "2827 2019-08-01 00:08:00 2019-08-01  \n",
       "2828 2019-08-01 00:08:55 2019-08-01  \n",
       "2829 2019-08-01 00:08:58 2019-08-01  \n",
       "2830 2019-08-01 00:08:59 2019-08-01  "
      ]
     },
     "execution_count": 34,
     "metadata": {},
     "output_type": "execute_result"
    }
   ],
   "source": [
    "df.head()"
   ]
  },
  {
   "cell_type": "code",
   "execution_count": 35,
   "metadata": {},
   "outputs": [
    {
     "data": {
      "text/html": [
       "<div>\n",
       "<style scoped>\n",
       "    .dataframe tbody tr th:only-of-type {\n",
       "        vertical-align: middle;\n",
       "    }\n",
       "\n",
       "    .dataframe tbody tr th {\n",
       "        vertical-align: top;\n",
       "    }\n",
       "\n",
       "    .dataframe thead th {\n",
       "        text-align: right;\n",
       "    }\n",
       "</style>\n",
       "<table border=\"1\" class=\"dataframe\">\n",
       "  <thead>\n",
       "    <tr style=\"text-align: right;\">\n",
       "      <th></th>\n",
       "      <th>user_id</th>\n",
       "    </tr>\n",
       "    <tr>\n",
       "      <th>exp_id</th>\n",
       "      <th></th>\n",
       "    </tr>\n",
       "  </thead>\n",
       "  <tbody>\n",
       "    <tr>\n",
       "      <td>246</td>\n",
       "      <td>2484</td>\n",
       "    </tr>\n",
       "    <tr>\n",
       "      <td>247</td>\n",
       "      <td>2513</td>\n",
       "    </tr>\n",
       "    <tr>\n",
       "      <td>248</td>\n",
       "      <td>2537</td>\n",
       "    </tr>\n",
       "  </tbody>\n",
       "</table>\n",
       "</div>"
      ],
      "text/plain": [
       "        user_id\n",
       "exp_id         \n",
       "246        2484\n",
       "247        2513\n",
       "248        2537"
      ]
     },
     "execution_count": 35,
     "metadata": {},
     "output_type": "execute_result"
    }
   ],
   "source": [
    "df_exp_grouped = df.groupby('exp_id').agg({'user_id':'nunique'})\n",
    "df_exp_grouped"
   ]
  },
  {
   "cell_type": "code",
   "execution_count": 36,
   "metadata": {},
   "outputs": [
    {
     "data": {
      "text/html": [
       "<div>\n",
       "<style scoped>\n",
       "    .dataframe tbody tr th:only-of-type {\n",
       "        vertical-align: middle;\n",
       "    }\n",
       "\n",
       "    .dataframe tbody tr th {\n",
       "        vertical-align: top;\n",
       "    }\n",
       "\n",
       "    .dataframe thead th {\n",
       "        text-align: right;\n",
       "    }\n",
       "</style>\n",
       "<table border=\"1\" class=\"dataframe\">\n",
       "  <thead>\n",
       "    <tr style=\"text-align: right;\">\n",
       "      <th>event_name</th>\n",
       "      <th>user_id</th>\n",
       "      <th>CartScreenAppear</th>\n",
       "      <th>MainScreenAppear</th>\n",
       "      <th>OffersScreenAppear</th>\n",
       "      <th>PaymentScreenSuccessful</th>\n",
       "      <th>Tutorial</th>\n",
       "    </tr>\n",
       "  </thead>\n",
       "  <tbody>\n",
       "    <tr>\n",
       "      <td>0</td>\n",
       "      <td>6888746892508752</td>\n",
       "      <td>NaT</td>\n",
       "      <td>2019-08-06 14:06:34</td>\n",
       "      <td>NaT</td>\n",
       "      <td>NaT</td>\n",
       "      <td>NaT</td>\n",
       "    </tr>\n",
       "    <tr>\n",
       "      <td>1</td>\n",
       "      <td>6909561520679493</td>\n",
       "      <td>2019-08-06 18:52:58</td>\n",
       "      <td>2019-08-06 18:52:54</td>\n",
       "      <td>2019-08-06 18:53:04</td>\n",
       "      <td>2019-08-06 18:52:58</td>\n",
       "      <td>NaT</td>\n",
       "    </tr>\n",
       "    <tr>\n",
       "      <td>2</td>\n",
       "      <td>6922444491712477</td>\n",
       "      <td>2019-08-04 14:19:40</td>\n",
       "      <td>2019-08-04 14:19:33</td>\n",
       "      <td>2019-08-04 14:19:46</td>\n",
       "      <td>2019-08-04 14:19:40</td>\n",
       "      <td>NaT</td>\n",
       "    </tr>\n",
       "    <tr>\n",
       "      <td>3</td>\n",
       "      <td>7435777799948366</td>\n",
       "      <td>NaT</td>\n",
       "      <td>2019-08-05 08:06:34</td>\n",
       "      <td>NaT</td>\n",
       "      <td>NaT</td>\n",
       "      <td>NaT</td>\n",
       "    </tr>\n",
       "    <tr>\n",
       "      <td>4</td>\n",
       "      <td>7702139951469979</td>\n",
       "      <td>2019-08-02 14:28:45</td>\n",
       "      <td>2019-08-01 04:29:54</td>\n",
       "      <td>2019-08-01 04:29:56</td>\n",
       "      <td>2019-08-02 14:28:45</td>\n",
       "      <td>NaT</td>\n",
       "    </tr>\n",
       "    <tr>\n",
       "      <td>5</td>\n",
       "      <td>8486814028069281</td>\n",
       "      <td>2019-08-05 04:49:18</td>\n",
       "      <td>2019-08-05 04:52:40</td>\n",
       "      <td>2019-08-05 04:49:13</td>\n",
       "      <td>NaT</td>\n",
       "      <td>NaT</td>\n",
       "    </tr>\n",
       "    <tr>\n",
       "      <td>6</td>\n",
       "      <td>8740973466195562</td>\n",
       "      <td>NaT</td>\n",
       "      <td>2019-08-02 09:16:48</td>\n",
       "      <td>2019-08-02 09:43:59</td>\n",
       "      <td>NaT</td>\n",
       "      <td>NaT</td>\n",
       "    </tr>\n",
       "    <tr>\n",
       "      <td>7</td>\n",
       "      <td>9841258664663090</td>\n",
       "      <td>2019-08-03 10:52:15</td>\n",
       "      <td>2019-08-03 10:47:59</td>\n",
       "      <td>2019-08-03 10:49:42</td>\n",
       "      <td>2019-08-03 17:57:27</td>\n",
       "      <td>2019-08-03 10:47:28</td>\n",
       "    </tr>\n",
       "    <tr>\n",
       "      <td>8</td>\n",
       "      <td>12692216027168046</td>\n",
       "      <td>NaT</td>\n",
       "      <td>2019-08-02 16:28:49</td>\n",
       "      <td>2019-08-05 04:06:02</td>\n",
       "      <td>NaT</td>\n",
       "      <td>NaT</td>\n",
       "    </tr>\n",
       "    <tr>\n",
       "      <td>9</td>\n",
       "      <td>15708180189885246</td>\n",
       "      <td>2019-08-01 11:06:19</td>\n",
       "      <td>2019-08-01 16:08:23</td>\n",
       "      <td>2019-08-01 05:38:55</td>\n",
       "      <td>2019-08-01 11:06:19</td>\n",
       "      <td>NaT</td>\n",
       "    </tr>\n",
       "  </tbody>\n",
       "</table>\n",
       "</div>"
      ],
      "text/plain": [
       "event_name            user_id    CartScreenAppear    MainScreenAppear  \\\n",
       "0            6888746892508752                 NaT 2019-08-06 14:06:34   \n",
       "1            6909561520679493 2019-08-06 18:52:58 2019-08-06 18:52:54   \n",
       "2            6922444491712477 2019-08-04 14:19:40 2019-08-04 14:19:33   \n",
       "3            7435777799948366                 NaT 2019-08-05 08:06:34   \n",
       "4            7702139951469979 2019-08-02 14:28:45 2019-08-01 04:29:54   \n",
       "5            8486814028069281 2019-08-05 04:49:18 2019-08-05 04:52:40   \n",
       "6            8740973466195562                 NaT 2019-08-02 09:16:48   \n",
       "7            9841258664663090 2019-08-03 10:52:15 2019-08-03 10:47:59   \n",
       "8           12692216027168046                 NaT 2019-08-02 16:28:49   \n",
       "9           15708180189885246 2019-08-01 11:06:19 2019-08-01 16:08:23   \n",
       "\n",
       "event_name  OffersScreenAppear PaymentScreenSuccessful            Tutorial  \n",
       "0                          NaT                     NaT                 NaT  \n",
       "1          2019-08-06 18:53:04     2019-08-06 18:52:58                 NaT  \n",
       "2          2019-08-04 14:19:46     2019-08-04 14:19:40                 NaT  \n",
       "3                          NaT                     NaT                 NaT  \n",
       "4          2019-08-01 04:29:56     2019-08-02 14:28:45                 NaT  \n",
       "5          2019-08-05 04:49:13                     NaT                 NaT  \n",
       "6          2019-08-02 09:43:59                     NaT                 NaT  \n",
       "7          2019-08-03 10:49:42     2019-08-03 17:57:27 2019-08-03 10:47:28  \n",
       "8          2019-08-05 04:06:02                     NaT                 NaT  \n",
       "9          2019-08-01 05:38:55     2019-08-01 11:06:19                 NaT  "
      ]
     },
     "execution_count": 36,
     "metadata": {},
     "output_type": "execute_result"
    }
   ],
   "source": [
    "users = df.pivot_table(\n",
    "        index='user_id', \n",
    "        columns='event_name', \n",
    "        values='date_time',\n",
    "        aggfunc='min').reset_index() \n",
    "\n",
    "users.head(10)"
   ]
  },
  {
   "cell_type": "markdown",
   "metadata": {},
   "source": [
    "Поменял местами события, чтобы они были в порядке воронки."
   ]
  },
  {
   "cell_type": "code",
   "execution_count": 37,
   "metadata": {},
   "outputs": [
    {
     "data": {
      "text/html": [
       "<div>\n",
       "<style scoped>\n",
       "    .dataframe tbody tr th:only-of-type {\n",
       "        vertical-align: middle;\n",
       "    }\n",
       "\n",
       "    .dataframe tbody tr th {\n",
       "        vertical-align: top;\n",
       "    }\n",
       "\n",
       "    .dataframe thead th {\n",
       "        text-align: right;\n",
       "    }\n",
       "</style>\n",
       "<table border=\"1\" class=\"dataframe\">\n",
       "  <thead>\n",
       "    <tr style=\"text-align: right;\">\n",
       "      <th>event_name</th>\n",
       "      <th>user_id</th>\n",
       "      <th>MainScreenAppear</th>\n",
       "      <th>OffersScreenAppear</th>\n",
       "      <th>CartScreenAppear</th>\n",
       "      <th>PaymentScreenSuccessful</th>\n",
       "      <th>Tutorial</th>\n",
       "    </tr>\n",
       "  </thead>\n",
       "  <tbody>\n",
       "    <tr>\n",
       "      <td>0</td>\n",
       "      <td>6888746892508752</td>\n",
       "      <td>2019-08-06 14:06:34</td>\n",
       "      <td>NaT</td>\n",
       "      <td>NaT</td>\n",
       "      <td>NaT</td>\n",
       "      <td>NaT</td>\n",
       "    </tr>\n",
       "    <tr>\n",
       "      <td>1</td>\n",
       "      <td>6909561520679493</td>\n",
       "      <td>2019-08-06 18:52:54</td>\n",
       "      <td>2019-08-06 18:53:04</td>\n",
       "      <td>2019-08-06 18:52:58</td>\n",
       "      <td>2019-08-06 18:52:58</td>\n",
       "      <td>NaT</td>\n",
       "    </tr>\n",
       "    <tr>\n",
       "      <td>2</td>\n",
       "      <td>6922444491712477</td>\n",
       "      <td>2019-08-04 14:19:33</td>\n",
       "      <td>2019-08-04 14:19:46</td>\n",
       "      <td>2019-08-04 14:19:40</td>\n",
       "      <td>2019-08-04 14:19:40</td>\n",
       "      <td>NaT</td>\n",
       "    </tr>\n",
       "    <tr>\n",
       "      <td>3</td>\n",
       "      <td>7435777799948366</td>\n",
       "      <td>2019-08-05 08:06:34</td>\n",
       "      <td>NaT</td>\n",
       "      <td>NaT</td>\n",
       "      <td>NaT</td>\n",
       "      <td>NaT</td>\n",
       "    </tr>\n",
       "    <tr>\n",
       "      <td>4</td>\n",
       "      <td>7702139951469979</td>\n",
       "      <td>2019-08-01 04:29:54</td>\n",
       "      <td>2019-08-01 04:29:56</td>\n",
       "      <td>2019-08-02 14:28:45</td>\n",
       "      <td>2019-08-02 14:28:45</td>\n",
       "      <td>NaT</td>\n",
       "    </tr>\n",
       "    <tr>\n",
       "      <td>5</td>\n",
       "      <td>8486814028069281</td>\n",
       "      <td>2019-08-05 04:52:40</td>\n",
       "      <td>2019-08-05 04:49:13</td>\n",
       "      <td>2019-08-05 04:49:18</td>\n",
       "      <td>NaT</td>\n",
       "      <td>NaT</td>\n",
       "    </tr>\n",
       "    <tr>\n",
       "      <td>6</td>\n",
       "      <td>8740973466195562</td>\n",
       "      <td>2019-08-02 09:16:48</td>\n",
       "      <td>2019-08-02 09:43:59</td>\n",
       "      <td>NaT</td>\n",
       "      <td>NaT</td>\n",
       "      <td>NaT</td>\n",
       "    </tr>\n",
       "    <tr>\n",
       "      <td>7</td>\n",
       "      <td>9841258664663090</td>\n",
       "      <td>2019-08-03 10:47:59</td>\n",
       "      <td>2019-08-03 10:49:42</td>\n",
       "      <td>2019-08-03 10:52:15</td>\n",
       "      <td>2019-08-03 17:57:27</td>\n",
       "      <td>2019-08-03 10:47:28</td>\n",
       "    </tr>\n",
       "    <tr>\n",
       "      <td>8</td>\n",
       "      <td>12692216027168046</td>\n",
       "      <td>2019-08-02 16:28:49</td>\n",
       "      <td>2019-08-05 04:06:02</td>\n",
       "      <td>NaT</td>\n",
       "      <td>NaT</td>\n",
       "      <td>NaT</td>\n",
       "    </tr>\n",
       "    <tr>\n",
       "      <td>9</td>\n",
       "      <td>15708180189885246</td>\n",
       "      <td>2019-08-01 16:08:23</td>\n",
       "      <td>2019-08-01 05:38:55</td>\n",
       "      <td>2019-08-01 11:06:19</td>\n",
       "      <td>2019-08-01 11:06:19</td>\n",
       "      <td>NaT</td>\n",
       "    </tr>\n",
       "  </tbody>\n",
       "</table>\n",
       "</div>"
      ],
      "text/plain": [
       "event_name            user_id    MainScreenAppear  OffersScreenAppear  \\\n",
       "0            6888746892508752 2019-08-06 14:06:34                 NaT   \n",
       "1            6909561520679493 2019-08-06 18:52:54 2019-08-06 18:53:04   \n",
       "2            6922444491712477 2019-08-04 14:19:33 2019-08-04 14:19:46   \n",
       "3            7435777799948366 2019-08-05 08:06:34                 NaT   \n",
       "4            7702139951469979 2019-08-01 04:29:54 2019-08-01 04:29:56   \n",
       "5            8486814028069281 2019-08-05 04:52:40 2019-08-05 04:49:13   \n",
       "6            8740973466195562 2019-08-02 09:16:48 2019-08-02 09:43:59   \n",
       "7            9841258664663090 2019-08-03 10:47:59 2019-08-03 10:49:42   \n",
       "8           12692216027168046 2019-08-02 16:28:49 2019-08-05 04:06:02   \n",
       "9           15708180189885246 2019-08-01 16:08:23 2019-08-01 05:38:55   \n",
       "\n",
       "event_name    CartScreenAppear PaymentScreenSuccessful            Tutorial  \n",
       "0                          NaT                     NaT                 NaT  \n",
       "1          2019-08-06 18:52:58     2019-08-06 18:52:58                 NaT  \n",
       "2          2019-08-04 14:19:40     2019-08-04 14:19:40                 NaT  \n",
       "3                          NaT                     NaT                 NaT  \n",
       "4          2019-08-02 14:28:45     2019-08-02 14:28:45                 NaT  \n",
       "5          2019-08-05 04:49:18                     NaT                 NaT  \n",
       "6                          NaT                     NaT                 NaT  \n",
       "7          2019-08-03 10:52:15     2019-08-03 17:57:27 2019-08-03 10:47:28  \n",
       "8                          NaT                     NaT                 NaT  \n",
       "9          2019-08-01 11:06:19     2019-08-01 11:06:19                 NaT  "
      ]
     },
     "execution_count": 37,
     "metadata": {},
     "output_type": "execute_result"
    }
   ],
   "source": [
    "users = users[['user_id', 'MainScreenAppear', 'OffersScreenAppear', 'CartScreenAppear', 'PaymentScreenSuccessful', 'Tutorial']]\n",
    "users.head(10)"
   ]
  },
  {
   "cell_type": "markdown",
   "metadata": {},
   "source": [
    "Теперь смотрим, сколько пользователей последовательно прошли по всей воронке событий и долю пользователей, которые проходят на каждый последующий шаг относительно предыдущего."
   ]
  },
  {
   "cell_type": "code",
   "execution_count": 38,
   "metadata": {},
   "outputs": [
    {
     "name": "stdout",
     "output_type": "stream",
     "text": [
      "Посетителей главной страницы: 7419\n",
      "Зашли на страницу предложений: 4201\n",
      "Начали оформлять заказ: 1767\n",
      "Успешно оплатили: 454\n"
     ]
    }
   ],
   "source": [
    "step_1 = ~users['MainScreenAppear'].isna()\n",
    "step_2 = step_1 & (users['OffersScreenAppear'] > users['MainScreenAppear'])\n",
    "step_3 = step_2 & (users['CartScreenAppear'] > users['OffersScreenAppear'])\n",
    "step_4 = step_3 & (users['PaymentScreenSuccessful'] > users['CartScreenAppear'])\n",
    "\n",
    "n_mainscreen = users[step_1].shape[0]\n",
    "n_offerscreen = users[step_2].shape[0]\n",
    "n_cartscreen = users[step_3].shape[0]\n",
    "n_payment = users[step_4].shape[0]\n",
    "\n",
    "print('Посетителей главной страницы:', n_mainscreen)\n",
    "print('Зашли на страницу предложений:', n_offerscreen)\n",
    "print('Начали оформлять заказ:', n_cartscreen)\n",
    "print('Успешно оплатили:', n_payment)\n"
   ]
  },
  {
   "cell_type": "code",
   "execution_count": 39,
   "metadata": {},
   "outputs": [
    {
     "data": {
      "text/html": [
       "<div>\n",
       "<style scoped>\n",
       "    .dataframe tbody tr th:only-of-type {\n",
       "        vertical-align: middle;\n",
       "    }\n",
       "\n",
       "    .dataframe tbody tr th {\n",
       "        vertical-align: top;\n",
       "    }\n",
       "\n",
       "    .dataframe thead th {\n",
       "        text-align: right;\n",
       "    }\n",
       "</style>\n",
       "<table border=\"1\" class=\"dataframe\">\n",
       "  <thead>\n",
       "    <tr style=\"text-align: right;\">\n",
       "      <th></th>\n",
       "      <th>user_id</th>\n",
       "    </tr>\n",
       "    <tr>\n",
       "      <th>event_name</th>\n",
       "      <th></th>\n",
       "    </tr>\n",
       "  </thead>\n",
       "  <tbody>\n",
       "    <tr>\n",
       "      <td>MainScreenAppear</td>\n",
       "      <td>7419</td>\n",
       "    </tr>\n",
       "    <tr>\n",
       "      <td>OffersScreenAppear</td>\n",
       "      <td>4593</td>\n",
       "    </tr>\n",
       "    <tr>\n",
       "      <td>CartScreenAppear</td>\n",
       "      <td>3734</td>\n",
       "    </tr>\n",
       "    <tr>\n",
       "      <td>PaymentScreenSuccessful</td>\n",
       "      <td>3539</td>\n",
       "    </tr>\n",
       "    <tr>\n",
       "      <td>Tutorial</td>\n",
       "      <td>840</td>\n",
       "    </tr>\n",
       "  </tbody>\n",
       "</table>\n",
       "</div>"
      ],
      "text/plain": [
       "                         user_id\n",
       "event_name                      \n",
       "MainScreenAppear            7419\n",
       "OffersScreenAppear          4593\n",
       "CartScreenAppear            3734\n",
       "PaymentScreenSuccessful     3539\n",
       "Tutorial                     840"
      ]
     },
     "execution_count": 39,
     "metadata": {},
     "output_type": "execute_result"
    }
   ],
   "source": [
    "event_user_uniq = df.groupby('event_name').agg({'user_id':'nunique'}).sort_values(by='user_id', ascending=False)\n",
    "event_user_uniq"
   ]
  },
  {
   "cell_type": "markdown",
   "metadata": {},
   "source": [
    "<div class=\"alert alert-info\"> <b>\n",
    "</b> \n",
    "Да, в выводе я писал, что могут быть пользователи, которые проходили не через все этапы воронки. Просто думал, что здесь надо  сначала найти число пользователей на каждом шаге воронки, а потом пользователей, которые последовательно прошли через каждый этап воронки.\n",
    "    \n",
    "</div>\n"
   ]
  },
  {
   "cell_type": "code",
   "execution_count": 40,
   "metadata": {},
   "outputs": [
    {
     "name": "stdout",
     "output_type": "stream",
     "text": [
      "Доля посетителей, зашедших с главной страницы на страницу предложений: 0.566\n",
      "Доля посетителей, перешедших со страницы предложений на страницу оплаты: 0.421\n",
      "Доля посетителей, начавших оплату и успешно ее завершивших: 0.257\n",
      "Доля посетителей, прошедших от начала воронки до конца: 0.061\n"
     ]
    }
   ],
   "source": [
    "print('Доля посетителей, зашедших с главной страницы на страницу предложений:', round((n_offerscreen / n_mainscreen),3 ))\n",
    "print('Доля посетителей, перешедших со страницы предложений на страницу оплаты:', round((n_cartscreen / n_offerscreen),3 ))\n",
    "print('Доля посетителей, начавших оплату и успешно ее завершивших:', round((n_payment / n_cartscreen),3 ))\n",
    "print('Доля посетителей, прошедших от начала воронки до конца:', round((n_payment / n_mainscreen),3 ))"
   ]
  },
  {
   "cell_type": "markdown",
   "metadata": {},
   "source": [
    "Как видим, большая часть пользователей отваливается на шаге от начала оформления заказа до успешной оплаты. Возможно, в приложении есть проблемы с оплатой. Например, не видно какой-либо кнопки, не поддерживает определенные платежные системы или еще какие-либо технические сбои, которые приводят к тому, что пользователь, который уже выбрал товар, в итоге на стадии оформления отказывается совершать покупку. \n",
    "\n",
    "Всего от начала до конца воронки доходит только 6,1% пользователей (с учетом последовательного прохождения всех шагов). Не все пользователи последовательно проходят по нашей воронке. Возможно, они ранее откладывали себе в корзину товары или, например, могли искать и оформлять товар не через наше приложение, а через маркетплейс, который автоматически передает данные в наше приложение уже о самой покупке, не проходя через все шаги воронки."
   ]
  },
  {
   "cell_type": "markdown",
   "metadata": {},
   "source": [
    "Найдем, сколько пользователей в каждой экспериментальной группе и самое популярное событие. Определим долю пользователей, совершивших это событие."
   ]
  },
  {
   "cell_type": "code",
   "execution_count": 41,
   "metadata": {},
   "outputs": [
    {
     "data": {
      "text/html": [
       "<div>\n",
       "<style scoped>\n",
       "    .dataframe tbody tr th:only-of-type {\n",
       "        vertical-align: middle;\n",
       "    }\n",
       "\n",
       "    .dataframe tbody tr th {\n",
       "        vertical-align: top;\n",
       "    }\n",
       "\n",
       "    .dataframe thead th {\n",
       "        text-align: right;\n",
       "    }\n",
       "</style>\n",
       "<table border=\"1\" class=\"dataframe\">\n",
       "  <thead>\n",
       "    <tr style=\"text-align: right;\">\n",
       "      <th></th>\n",
       "      <th>total_users_in_group</th>\n",
       "    </tr>\n",
       "    <tr>\n",
       "      <th>exp_id</th>\n",
       "      <th></th>\n",
       "    </tr>\n",
       "  </thead>\n",
       "  <tbody>\n",
       "    <tr>\n",
       "      <td>246</td>\n",
       "      <td>2484</td>\n",
       "    </tr>\n",
       "    <tr>\n",
       "      <td>247</td>\n",
       "      <td>2513</td>\n",
       "    </tr>\n",
       "    <tr>\n",
       "      <td>248</td>\n",
       "      <td>2537</td>\n",
       "    </tr>\n",
       "  </tbody>\n",
       "</table>\n",
       "</div>"
      ],
      "text/plain": [
       "        total_users_in_group\n",
       "exp_id                      \n",
       "246                     2484\n",
       "247                     2513\n",
       "248                     2537"
      ]
     },
     "execution_count": 41,
     "metadata": {},
     "output_type": "execute_result"
    }
   ],
   "source": [
    "df_exp_grouped = df_exp_grouped.rename(columns={'user_id': 'total_users_in_group'})\n",
    "df_exp_grouped"
   ]
  },
  {
   "cell_type": "code",
   "execution_count": 42,
   "metadata": {},
   "outputs": [
    {
     "data": {
      "text/html": [
       "<div>\n",
       "<style scoped>\n",
       "    .dataframe tbody tr th:only-of-type {\n",
       "        vertical-align: middle;\n",
       "    }\n",
       "\n",
       "    .dataframe tbody tr th {\n",
       "        vertical-align: top;\n",
       "    }\n",
       "\n",
       "    .dataframe thead th {\n",
       "        text-align: right;\n",
       "    }\n",
       "</style>\n",
       "<table border=\"1\" class=\"dataframe\">\n",
       "  <thead>\n",
       "    <tr style=\"text-align: right;\">\n",
       "      <th></th>\n",
       "      <th>event_name</th>\n",
       "      <th>user_id</th>\n",
       "      <th>event_timestamp</th>\n",
       "      <th>exp_id</th>\n",
       "      <th>date_time</th>\n",
       "      <th>date</th>\n",
       "    </tr>\n",
       "  </thead>\n",
       "  <tbody>\n",
       "    <tr>\n",
       "      <td>2826</td>\n",
       "      <td>Tutorial</td>\n",
       "      <td>3737462046622621720</td>\n",
       "      <td>1564618048</td>\n",
       "      <td>246</td>\n",
       "      <td>2019-08-01 00:07:28</td>\n",
       "      <td>2019-08-01</td>\n",
       "    </tr>\n",
       "    <tr>\n",
       "      <td>2827</td>\n",
       "      <td>MainScreenAppear</td>\n",
       "      <td>3737462046622621720</td>\n",
       "      <td>1564618080</td>\n",
       "      <td>246</td>\n",
       "      <td>2019-08-01 00:08:00</td>\n",
       "      <td>2019-08-01</td>\n",
       "    </tr>\n",
       "    <tr>\n",
       "      <td>2828</td>\n",
       "      <td>MainScreenAppear</td>\n",
       "      <td>3737462046622621720</td>\n",
       "      <td>1564618135</td>\n",
       "      <td>246</td>\n",
       "      <td>2019-08-01 00:08:55</td>\n",
       "      <td>2019-08-01</td>\n",
       "    </tr>\n",
       "    <tr>\n",
       "      <td>2829</td>\n",
       "      <td>OffersScreenAppear</td>\n",
       "      <td>3737462046622621720</td>\n",
       "      <td>1564618138</td>\n",
       "      <td>246</td>\n",
       "      <td>2019-08-01 00:08:58</td>\n",
       "      <td>2019-08-01</td>\n",
       "    </tr>\n",
       "    <tr>\n",
       "      <td>2830</td>\n",
       "      <td>MainScreenAppear</td>\n",
       "      <td>1433840883824088890</td>\n",
       "      <td>1564618139</td>\n",
       "      <td>247</td>\n",
       "      <td>2019-08-01 00:08:59</td>\n",
       "      <td>2019-08-01</td>\n",
       "    </tr>\n",
       "  </tbody>\n",
       "</table>\n",
       "</div>"
      ],
      "text/plain": [
       "              event_name              user_id  event_timestamp  exp_id  \\\n",
       "2826            Tutorial  3737462046622621720       1564618048     246   \n",
       "2827    MainScreenAppear  3737462046622621720       1564618080     246   \n",
       "2828    MainScreenAppear  3737462046622621720       1564618135     246   \n",
       "2829  OffersScreenAppear  3737462046622621720       1564618138     246   \n",
       "2830    MainScreenAppear  1433840883824088890       1564618139     247   \n",
       "\n",
       "               date_time       date  \n",
       "2826 2019-08-01 00:07:28 2019-08-01  \n",
       "2827 2019-08-01 00:08:00 2019-08-01  \n",
       "2828 2019-08-01 00:08:55 2019-08-01  \n",
       "2829 2019-08-01 00:08:58 2019-08-01  \n",
       "2830 2019-08-01 00:08:59 2019-08-01  "
      ]
     },
     "execution_count": 42,
     "metadata": {},
     "output_type": "execute_result"
    }
   ],
   "source": [
    "df.head()"
   ]
  },
  {
   "cell_type": "code",
   "execution_count": 43,
   "metadata": {},
   "outputs": [
    {
     "data": {
      "text/html": [
       "<div>\n",
       "<style scoped>\n",
       "    .dataframe tbody tr th:only-of-type {\n",
       "        vertical-align: middle;\n",
       "    }\n",
       "\n",
       "    .dataframe tbody tr th {\n",
       "        vertical-align: top;\n",
       "    }\n",
       "\n",
       "    .dataframe thead th {\n",
       "        text-align: right;\n",
       "    }\n",
       "</style>\n",
       "<table border=\"1\" class=\"dataframe\">\n",
       "  <thead>\n",
       "    <tr style=\"text-align: right;\">\n",
       "      <th></th>\n",
       "      <th>exp_id</th>\n",
       "      <th>event_name</th>\n",
       "      <th>user_id</th>\n",
       "    </tr>\n",
       "  </thead>\n",
       "  <tbody>\n",
       "    <tr>\n",
       "      <td>0</td>\n",
       "      <td>246</td>\n",
       "      <td>CartScreenAppear</td>\n",
       "      <td>1266</td>\n",
       "    </tr>\n",
       "    <tr>\n",
       "      <td>1</td>\n",
       "      <td>246</td>\n",
       "      <td>MainScreenAppear</td>\n",
       "      <td>2450</td>\n",
       "    </tr>\n",
       "    <tr>\n",
       "      <td>2</td>\n",
       "      <td>246</td>\n",
       "      <td>OffersScreenAppear</td>\n",
       "      <td>1542</td>\n",
       "    </tr>\n",
       "    <tr>\n",
       "      <td>3</td>\n",
       "      <td>246</td>\n",
       "      <td>PaymentScreenSuccessful</td>\n",
       "      <td>1200</td>\n",
       "    </tr>\n",
       "    <tr>\n",
       "      <td>4</td>\n",
       "      <td>246</td>\n",
       "      <td>Tutorial</td>\n",
       "      <td>278</td>\n",
       "    </tr>\n",
       "    <tr>\n",
       "      <td>5</td>\n",
       "      <td>247</td>\n",
       "      <td>CartScreenAppear</td>\n",
       "      <td>1238</td>\n",
       "    </tr>\n",
       "    <tr>\n",
       "      <td>6</td>\n",
       "      <td>247</td>\n",
       "      <td>MainScreenAppear</td>\n",
       "      <td>2476</td>\n",
       "    </tr>\n",
       "    <tr>\n",
       "      <td>7</td>\n",
       "      <td>247</td>\n",
       "      <td>OffersScreenAppear</td>\n",
       "      <td>1520</td>\n",
       "    </tr>\n",
       "    <tr>\n",
       "      <td>8</td>\n",
       "      <td>247</td>\n",
       "      <td>PaymentScreenSuccessful</td>\n",
       "      <td>1158</td>\n",
       "    </tr>\n",
       "    <tr>\n",
       "      <td>9</td>\n",
       "      <td>247</td>\n",
       "      <td>Tutorial</td>\n",
       "      <td>283</td>\n",
       "    </tr>\n",
       "    <tr>\n",
       "      <td>10</td>\n",
       "      <td>248</td>\n",
       "      <td>CartScreenAppear</td>\n",
       "      <td>1230</td>\n",
       "    </tr>\n",
       "    <tr>\n",
       "      <td>11</td>\n",
       "      <td>248</td>\n",
       "      <td>MainScreenAppear</td>\n",
       "      <td>2493</td>\n",
       "    </tr>\n",
       "    <tr>\n",
       "      <td>12</td>\n",
       "      <td>248</td>\n",
       "      <td>OffersScreenAppear</td>\n",
       "      <td>1531</td>\n",
       "    </tr>\n",
       "    <tr>\n",
       "      <td>13</td>\n",
       "      <td>248</td>\n",
       "      <td>PaymentScreenSuccessful</td>\n",
       "      <td>1181</td>\n",
       "    </tr>\n",
       "    <tr>\n",
       "      <td>14</td>\n",
       "      <td>248</td>\n",
       "      <td>Tutorial</td>\n",
       "      <td>279</td>\n",
       "    </tr>\n",
       "  </tbody>\n",
       "</table>\n",
       "</div>"
      ],
      "text/plain": [
       "    exp_id               event_name  user_id\n",
       "0      246         CartScreenAppear     1266\n",
       "1      246         MainScreenAppear     2450\n",
       "2      246       OffersScreenAppear     1542\n",
       "3      246  PaymentScreenSuccessful     1200\n",
       "4      246                 Tutorial      278\n",
       "5      247         CartScreenAppear     1238\n",
       "6      247         MainScreenAppear     2476\n",
       "7      247       OffersScreenAppear     1520\n",
       "8      247  PaymentScreenSuccessful     1158\n",
       "9      247                 Tutorial      283\n",
       "10     248         CartScreenAppear     1230\n",
       "11     248         MainScreenAppear     2493\n",
       "12     248       OffersScreenAppear     1531\n",
       "13     248  PaymentScreenSuccessful     1181\n",
       "14     248                 Tutorial      279"
      ]
     },
     "execution_count": 43,
     "metadata": {},
     "output_type": "execute_result"
    }
   ],
   "source": [
    "exp_id_events_count = df.groupby(['exp_id', 'event_name']).agg({'user_id':'nunique'}).reset_index()\n",
    "exp_id_events_count"
   ]
  },
  {
   "cell_type": "code",
   "execution_count": 44,
   "metadata": {},
   "outputs": [
    {
     "data": {
      "text/html": [
       "<div>\n",
       "<style scoped>\n",
       "    .dataframe tbody tr th:only-of-type {\n",
       "        vertical-align: middle;\n",
       "    }\n",
       "\n",
       "    .dataframe tbody tr th {\n",
       "        vertical-align: top;\n",
       "    }\n",
       "\n",
       "    .dataframe thead th {\n",
       "        text-align: right;\n",
       "    }\n",
       "</style>\n",
       "<table border=\"1\" class=\"dataframe\">\n",
       "  <thead>\n",
       "    <tr style=\"text-align: right;\">\n",
       "      <th></th>\n",
       "      <th>exp_id</th>\n",
       "      <th>event_name</th>\n",
       "      <th>user_id</th>\n",
       "      <th>total_users_in_group</th>\n",
       "    </tr>\n",
       "  </thead>\n",
       "  <tbody>\n",
       "    <tr>\n",
       "      <td>11</td>\n",
       "      <td>248</td>\n",
       "      <td>MainScreenAppear</td>\n",
       "      <td>2493</td>\n",
       "      <td>2537</td>\n",
       "    </tr>\n",
       "    <tr>\n",
       "      <td>12</td>\n",
       "      <td>248</td>\n",
       "      <td>OffersScreenAppear</td>\n",
       "      <td>1531</td>\n",
       "      <td>2537</td>\n",
       "    </tr>\n",
       "    <tr>\n",
       "      <td>10</td>\n",
       "      <td>248</td>\n",
       "      <td>CartScreenAppear</td>\n",
       "      <td>1230</td>\n",
       "      <td>2537</td>\n",
       "    </tr>\n",
       "    <tr>\n",
       "      <td>13</td>\n",
       "      <td>248</td>\n",
       "      <td>PaymentScreenSuccessful</td>\n",
       "      <td>1181</td>\n",
       "      <td>2537</td>\n",
       "    </tr>\n",
       "    <tr>\n",
       "      <td>14</td>\n",
       "      <td>248</td>\n",
       "      <td>Tutorial</td>\n",
       "      <td>279</td>\n",
       "      <td>2537</td>\n",
       "    </tr>\n",
       "    <tr>\n",
       "      <td>6</td>\n",
       "      <td>247</td>\n",
       "      <td>MainScreenAppear</td>\n",
       "      <td>2476</td>\n",
       "      <td>2513</td>\n",
       "    </tr>\n",
       "    <tr>\n",
       "      <td>7</td>\n",
       "      <td>247</td>\n",
       "      <td>OffersScreenAppear</td>\n",
       "      <td>1520</td>\n",
       "      <td>2513</td>\n",
       "    </tr>\n",
       "    <tr>\n",
       "      <td>5</td>\n",
       "      <td>247</td>\n",
       "      <td>CartScreenAppear</td>\n",
       "      <td>1238</td>\n",
       "      <td>2513</td>\n",
       "    </tr>\n",
       "    <tr>\n",
       "      <td>8</td>\n",
       "      <td>247</td>\n",
       "      <td>PaymentScreenSuccessful</td>\n",
       "      <td>1158</td>\n",
       "      <td>2513</td>\n",
       "    </tr>\n",
       "    <tr>\n",
       "      <td>9</td>\n",
       "      <td>247</td>\n",
       "      <td>Tutorial</td>\n",
       "      <td>283</td>\n",
       "      <td>2513</td>\n",
       "    </tr>\n",
       "    <tr>\n",
       "      <td>1</td>\n",
       "      <td>246</td>\n",
       "      <td>MainScreenAppear</td>\n",
       "      <td>2450</td>\n",
       "      <td>2484</td>\n",
       "    </tr>\n",
       "    <tr>\n",
       "      <td>2</td>\n",
       "      <td>246</td>\n",
       "      <td>OffersScreenAppear</td>\n",
       "      <td>1542</td>\n",
       "      <td>2484</td>\n",
       "    </tr>\n",
       "    <tr>\n",
       "      <td>0</td>\n",
       "      <td>246</td>\n",
       "      <td>CartScreenAppear</td>\n",
       "      <td>1266</td>\n",
       "      <td>2484</td>\n",
       "    </tr>\n",
       "    <tr>\n",
       "      <td>3</td>\n",
       "      <td>246</td>\n",
       "      <td>PaymentScreenSuccessful</td>\n",
       "      <td>1200</td>\n",
       "      <td>2484</td>\n",
       "    </tr>\n",
       "    <tr>\n",
       "      <td>4</td>\n",
       "      <td>246</td>\n",
       "      <td>Tutorial</td>\n",
       "      <td>278</td>\n",
       "      <td>2484</td>\n",
       "    </tr>\n",
       "  </tbody>\n",
       "</table>\n",
       "</div>"
      ],
      "text/plain": [
       "    exp_id               event_name  user_id  total_users_in_group\n",
       "11     248         MainScreenAppear     2493                  2537\n",
       "12     248       OffersScreenAppear     1531                  2537\n",
       "10     248         CartScreenAppear     1230                  2537\n",
       "13     248  PaymentScreenSuccessful     1181                  2537\n",
       "14     248                 Tutorial      279                  2537\n",
       "6      247         MainScreenAppear     2476                  2513\n",
       "7      247       OffersScreenAppear     1520                  2513\n",
       "5      247         CartScreenAppear     1238                  2513\n",
       "8      247  PaymentScreenSuccessful     1158                  2513\n",
       "9      247                 Tutorial      283                  2513\n",
       "1      246         MainScreenAppear     2450                  2484\n",
       "2      246       OffersScreenAppear     1542                  2484\n",
       "0      246         CartScreenAppear     1266                  2484\n",
       "3      246  PaymentScreenSuccessful     1200                  2484\n",
       "4      246                 Tutorial      278                  2484"
      ]
     },
     "execution_count": 44,
     "metadata": {},
     "output_type": "execute_result"
    }
   ],
   "source": [
    "exp_merged = exp_id_events_count.merge(df_exp_grouped, left_on='exp_id', right_on='exp_id', how = 'left').sort_values(by=['exp_id','user_id'],ascending=False)\n",
    "exp_merged"
   ]
  },
  {
   "cell_type": "markdown",
   "metadata": {},
   "source": [
    "Во всех случаях самое популярное событие - первый шаг воронки, т.е. заход на главную страницу."
   ]
  },
  {
   "cell_type": "code",
   "execution_count": 45,
   "metadata": {},
   "outputs": [
    {
     "data": {
      "text/html": [
       "<div>\n",
       "<style scoped>\n",
       "    .dataframe tbody tr th:only-of-type {\n",
       "        vertical-align: middle;\n",
       "    }\n",
       "\n",
       "    .dataframe tbody tr th {\n",
       "        vertical-align: top;\n",
       "    }\n",
       "\n",
       "    .dataframe thead th {\n",
       "        text-align: right;\n",
       "    }\n",
       "</style>\n",
       "<table border=\"1\" class=\"dataframe\">\n",
       "  <thead>\n",
       "    <tr style=\"text-align: right;\">\n",
       "      <th></th>\n",
       "      <th>exp_id</th>\n",
       "      <th>event_name</th>\n",
       "      <th>user_id</th>\n",
       "      <th>total_users_in_group</th>\n",
       "      <th>share_of_total</th>\n",
       "    </tr>\n",
       "  </thead>\n",
       "  <tbody>\n",
       "    <tr>\n",
       "      <td>11</td>\n",
       "      <td>248</td>\n",
       "      <td>MainScreenAppear</td>\n",
       "      <td>2493</td>\n",
       "      <td>2537</td>\n",
       "      <td>0.983</td>\n",
       "    </tr>\n",
       "    <tr>\n",
       "      <td>12</td>\n",
       "      <td>248</td>\n",
       "      <td>OffersScreenAppear</td>\n",
       "      <td>1531</td>\n",
       "      <td>2537</td>\n",
       "      <td>0.603</td>\n",
       "    </tr>\n",
       "    <tr>\n",
       "      <td>10</td>\n",
       "      <td>248</td>\n",
       "      <td>CartScreenAppear</td>\n",
       "      <td>1230</td>\n",
       "      <td>2537</td>\n",
       "      <td>0.485</td>\n",
       "    </tr>\n",
       "    <tr>\n",
       "      <td>13</td>\n",
       "      <td>248</td>\n",
       "      <td>PaymentScreenSuccessful</td>\n",
       "      <td>1181</td>\n",
       "      <td>2537</td>\n",
       "      <td>0.466</td>\n",
       "    </tr>\n",
       "    <tr>\n",
       "      <td>14</td>\n",
       "      <td>248</td>\n",
       "      <td>Tutorial</td>\n",
       "      <td>279</td>\n",
       "      <td>2537</td>\n",
       "      <td>0.110</td>\n",
       "    </tr>\n",
       "    <tr>\n",
       "      <td>6</td>\n",
       "      <td>247</td>\n",
       "      <td>MainScreenAppear</td>\n",
       "      <td>2476</td>\n",
       "      <td>2513</td>\n",
       "      <td>0.985</td>\n",
       "    </tr>\n",
       "    <tr>\n",
       "      <td>7</td>\n",
       "      <td>247</td>\n",
       "      <td>OffersScreenAppear</td>\n",
       "      <td>1520</td>\n",
       "      <td>2513</td>\n",
       "      <td>0.605</td>\n",
       "    </tr>\n",
       "    <tr>\n",
       "      <td>5</td>\n",
       "      <td>247</td>\n",
       "      <td>CartScreenAppear</td>\n",
       "      <td>1238</td>\n",
       "      <td>2513</td>\n",
       "      <td>0.493</td>\n",
       "    </tr>\n",
       "    <tr>\n",
       "      <td>8</td>\n",
       "      <td>247</td>\n",
       "      <td>PaymentScreenSuccessful</td>\n",
       "      <td>1158</td>\n",
       "      <td>2513</td>\n",
       "      <td>0.461</td>\n",
       "    </tr>\n",
       "    <tr>\n",
       "      <td>9</td>\n",
       "      <td>247</td>\n",
       "      <td>Tutorial</td>\n",
       "      <td>283</td>\n",
       "      <td>2513</td>\n",
       "      <td>0.113</td>\n",
       "    </tr>\n",
       "    <tr>\n",
       "      <td>1</td>\n",
       "      <td>246</td>\n",
       "      <td>MainScreenAppear</td>\n",
       "      <td>2450</td>\n",
       "      <td>2484</td>\n",
       "      <td>0.986</td>\n",
       "    </tr>\n",
       "    <tr>\n",
       "      <td>2</td>\n",
       "      <td>246</td>\n",
       "      <td>OffersScreenAppear</td>\n",
       "      <td>1542</td>\n",
       "      <td>2484</td>\n",
       "      <td>0.621</td>\n",
       "    </tr>\n",
       "    <tr>\n",
       "      <td>0</td>\n",
       "      <td>246</td>\n",
       "      <td>CartScreenAppear</td>\n",
       "      <td>1266</td>\n",
       "      <td>2484</td>\n",
       "      <td>0.510</td>\n",
       "    </tr>\n",
       "    <tr>\n",
       "      <td>3</td>\n",
       "      <td>246</td>\n",
       "      <td>PaymentScreenSuccessful</td>\n",
       "      <td>1200</td>\n",
       "      <td>2484</td>\n",
       "      <td>0.483</td>\n",
       "    </tr>\n",
       "    <tr>\n",
       "      <td>4</td>\n",
       "      <td>246</td>\n",
       "      <td>Tutorial</td>\n",
       "      <td>278</td>\n",
       "      <td>2484</td>\n",
       "      <td>0.112</td>\n",
       "    </tr>\n",
       "  </tbody>\n",
       "</table>\n",
       "</div>"
      ],
      "text/plain": [
       "    exp_id               event_name  user_id  total_users_in_group  \\\n",
       "11     248         MainScreenAppear     2493                  2537   \n",
       "12     248       OffersScreenAppear     1531                  2537   \n",
       "10     248         CartScreenAppear     1230                  2537   \n",
       "13     248  PaymentScreenSuccessful     1181                  2537   \n",
       "14     248                 Tutorial      279                  2537   \n",
       "6      247         MainScreenAppear     2476                  2513   \n",
       "7      247       OffersScreenAppear     1520                  2513   \n",
       "5      247         CartScreenAppear     1238                  2513   \n",
       "8      247  PaymentScreenSuccessful     1158                  2513   \n",
       "9      247                 Tutorial      283                  2513   \n",
       "1      246         MainScreenAppear     2450                  2484   \n",
       "2      246       OffersScreenAppear     1542                  2484   \n",
       "0      246         CartScreenAppear     1266                  2484   \n",
       "3      246  PaymentScreenSuccessful     1200                  2484   \n",
       "4      246                 Tutorial      278                  2484   \n",
       "\n",
       "    share_of_total  \n",
       "11           0.983  \n",
       "12           0.603  \n",
       "10           0.485  \n",
       "13           0.466  \n",
       "14           0.110  \n",
       "6            0.985  \n",
       "7            0.605  \n",
       "5            0.493  \n",
       "8            0.461  \n",
       "9            0.113  \n",
       "1            0.986  \n",
       "2            0.621  \n",
       "0            0.510  \n",
       "3            0.483  \n",
       "4            0.112  "
      ]
     },
     "execution_count": 45,
     "metadata": {},
     "output_type": "execute_result"
    }
   ],
   "source": [
    "exp_merged['share_of_total'] = round(exp_merged['user_id'] / exp_merged['total_users_in_group'], 3)\n",
    "exp_merged"
   ]
  },
  {
   "cell_type": "code",
   "execution_count": 46,
   "metadata": {},
   "outputs": [
    {
     "data": {
      "text/html": [
       "<div>\n",
       "<style scoped>\n",
       "    .dataframe tbody tr th:only-of-type {\n",
       "        vertical-align: middle;\n",
       "    }\n",
       "\n",
       "    .dataframe tbody tr th {\n",
       "        vertical-align: top;\n",
       "    }\n",
       "\n",
       "    .dataframe thead th {\n",
       "        text-align: right;\n",
       "    }\n",
       "</style>\n",
       "<table border=\"1\" class=\"dataframe\">\n",
       "  <thead>\n",
       "    <tr style=\"text-align: right;\">\n",
       "      <th></th>\n",
       "      <th>exp_id</th>\n",
       "      <th>event_name</th>\n",
       "      <th>user_id</th>\n",
       "      <th>total_users_in_group</th>\n",
       "      <th>share_of_total</th>\n",
       "    </tr>\n",
       "  </thead>\n",
       "  <tbody>\n",
       "    <tr>\n",
       "      <td>11</td>\n",
       "      <td>248</td>\n",
       "      <td>MainScreenAppear</td>\n",
       "      <td>2493</td>\n",
       "      <td>2537</td>\n",
       "      <td>0.983</td>\n",
       "    </tr>\n",
       "    <tr>\n",
       "      <td>6</td>\n",
       "      <td>247</td>\n",
       "      <td>MainScreenAppear</td>\n",
       "      <td>2476</td>\n",
       "      <td>2513</td>\n",
       "      <td>0.985</td>\n",
       "    </tr>\n",
       "    <tr>\n",
       "      <td>1</td>\n",
       "      <td>246</td>\n",
       "      <td>MainScreenAppear</td>\n",
       "      <td>2450</td>\n",
       "      <td>2484</td>\n",
       "      <td>0.986</td>\n",
       "    </tr>\n",
       "  </tbody>\n",
       "</table>\n",
       "</div>"
      ],
      "text/plain": [
       "    exp_id        event_name  user_id  total_users_in_group  share_of_total\n",
       "11     248  MainScreenAppear     2493                  2537           0.983\n",
       "6      247  MainScreenAppear     2476                  2513           0.985\n",
       "1      246  MainScreenAppear     2450                  2484           0.986"
      ]
     },
     "execution_count": 46,
     "metadata": {},
     "output_type": "execute_result"
    }
   ],
   "source": [
    "exp_mainscreen_query = exp_merged.query('event_name == \"MainScreenAppear\"')\n",
    "exp_mainscreen_query"
   ]
  },
  {
   "cell_type": "markdown",
   "metadata": {},
   "source": [
    "Почти все пользователи в каждой группе начинают с главной страницы. Доли остальных событий отличаются не так сильно. Чтобы понять, есть ли различия между группами, проведем тесты для выявления статистической значимости."
   ]
  },
  {
   "cell_type": "markdown",
   "metadata": {},
   "source": [
    "Уберем \"обучение\", т.к. условились, что оно не является шагом в нашей воронке."
   ]
  },
  {
   "cell_type": "code",
   "execution_count": 47,
   "metadata": {},
   "outputs": [],
   "source": [
    "exp_246 = df[(df['exp_id'] == 246) & (df['event_name'] != 'Tutorial')]\n",
    "exp_247 = df[(df['exp_id'] == 247) & (df['event_name'] != 'Tutorial')]\n",
    "exp_248 = df[(df['exp_id'] == 248) & (df['event_name'] != 'Tutorial')]"
   ]
  },
  {
   "cell_type": "code",
   "execution_count": 48,
   "metadata": {},
   "outputs": [],
   "source": [
    "funnel_246 = exp_246.groupby('event_name')['user_id'].nunique().sort_values(ascending=False).to_frame().reset_index().rename(columns={'user_id': 'total_users'})\n",
    "funnel_247 = exp_247.groupby('event_name')['user_id'].nunique().sort_values(ascending=False).to_frame().reset_index().rename(columns={'user_id': 'total_users'})\n",
    "funnel_248 = exp_248.groupby('event_name')['user_id'].nunique().sort_values(ascending=False).to_frame().reset_index().rename(columns={'user_id': 'total_users'})"
   ]
  },
  {
   "cell_type": "code",
   "execution_count": 49,
   "metadata": {},
   "outputs": [
    {
     "data": {
      "text/html": [
       "<div>\n",
       "<style scoped>\n",
       "    .dataframe tbody tr th:only-of-type {\n",
       "        vertical-align: middle;\n",
       "    }\n",
       "\n",
       "    .dataframe tbody tr th {\n",
       "        vertical-align: top;\n",
       "    }\n",
       "\n",
       "    .dataframe thead th {\n",
       "        text-align: right;\n",
       "    }\n",
       "</style>\n",
       "<table border=\"1\" class=\"dataframe\">\n",
       "  <thead>\n",
       "    <tr style=\"text-align: right;\">\n",
       "      <th></th>\n",
       "      <th>event_name</th>\n",
       "      <th>total_users</th>\n",
       "    </tr>\n",
       "  </thead>\n",
       "  <tbody>\n",
       "    <tr>\n",
       "      <td>0</td>\n",
       "      <td>MainScreenAppear</td>\n",
       "      <td>2450</td>\n",
       "    </tr>\n",
       "    <tr>\n",
       "      <td>1</td>\n",
       "      <td>OffersScreenAppear</td>\n",
       "      <td>1542</td>\n",
       "    </tr>\n",
       "    <tr>\n",
       "      <td>2</td>\n",
       "      <td>CartScreenAppear</td>\n",
       "      <td>1266</td>\n",
       "    </tr>\n",
       "    <tr>\n",
       "      <td>3</td>\n",
       "      <td>PaymentScreenSuccessful</td>\n",
       "      <td>1200</td>\n",
       "    </tr>\n",
       "  </tbody>\n",
       "</table>\n",
       "</div>"
      ],
      "text/plain": [
       "                event_name  total_users\n",
       "0         MainScreenAppear         2450\n",
       "1       OffersScreenAppear         1542\n",
       "2         CartScreenAppear         1266\n",
       "3  PaymentScreenSuccessful         1200"
      ]
     },
     "execution_count": 49,
     "metadata": {},
     "output_type": "execute_result"
    }
   ],
   "source": [
    "funnel_246"
   ]
  },
  {
   "cell_type": "code",
   "execution_count": 50,
   "metadata": {},
   "outputs": [
    {
     "data": {
      "text/html": [
       "<div>\n",
       "<style scoped>\n",
       "    .dataframe tbody tr th:only-of-type {\n",
       "        vertical-align: middle;\n",
       "    }\n",
       "\n",
       "    .dataframe tbody tr th {\n",
       "        vertical-align: top;\n",
       "    }\n",
       "\n",
       "    .dataframe thead th {\n",
       "        text-align: right;\n",
       "    }\n",
       "</style>\n",
       "<table border=\"1\" class=\"dataframe\">\n",
       "  <thead>\n",
       "    <tr style=\"text-align: right;\">\n",
       "      <th></th>\n",
       "      <th>event_name</th>\n",
       "      <th>total_users</th>\n",
       "    </tr>\n",
       "  </thead>\n",
       "  <tbody>\n",
       "    <tr>\n",
       "      <td>0</td>\n",
       "      <td>MainScreenAppear</td>\n",
       "      <td>2476</td>\n",
       "    </tr>\n",
       "    <tr>\n",
       "      <td>1</td>\n",
       "      <td>OffersScreenAppear</td>\n",
       "      <td>1520</td>\n",
       "    </tr>\n",
       "    <tr>\n",
       "      <td>2</td>\n",
       "      <td>CartScreenAppear</td>\n",
       "      <td>1238</td>\n",
       "    </tr>\n",
       "    <tr>\n",
       "      <td>3</td>\n",
       "      <td>PaymentScreenSuccessful</td>\n",
       "      <td>1158</td>\n",
       "    </tr>\n",
       "  </tbody>\n",
       "</table>\n",
       "</div>"
      ],
      "text/plain": [
       "                event_name  total_users\n",
       "0         MainScreenAppear         2476\n",
       "1       OffersScreenAppear         1520\n",
       "2         CartScreenAppear         1238\n",
       "3  PaymentScreenSuccessful         1158"
      ]
     },
     "execution_count": 50,
     "metadata": {},
     "output_type": "execute_result"
    }
   ],
   "source": [
    "funnel_247"
   ]
  },
  {
   "cell_type": "markdown",
   "metadata": {},
   "source": [
    "Посмотрим, как отличается общее число пользователей в двух контрольных группах и количество пользователей, проходящих через каждый шаг воронки."
   ]
  },
  {
   "cell_type": "code",
   "execution_count": 51,
   "metadata": {},
   "outputs": [
    {
     "data": {
      "text/html": [
       "<div>\n",
       "<style scoped>\n",
       "    .dataframe tbody tr th:only-of-type {\n",
       "        vertical-align: middle;\n",
       "    }\n",
       "\n",
       "    .dataframe tbody tr th {\n",
       "        vertical-align: top;\n",
       "    }\n",
       "\n",
       "    .dataframe thead th {\n",
       "        text-align: right;\n",
       "    }\n",
       "</style>\n",
       "<table border=\"1\" class=\"dataframe\">\n",
       "  <thead>\n",
       "    <tr style=\"text-align: right;\">\n",
       "      <th></th>\n",
       "      <th>total_users_in_group</th>\n",
       "    </tr>\n",
       "    <tr>\n",
       "      <th>exp_id</th>\n",
       "      <th></th>\n",
       "    </tr>\n",
       "  </thead>\n",
       "  <tbody>\n",
       "    <tr>\n",
       "      <td>246</td>\n",
       "      <td>2484</td>\n",
       "    </tr>\n",
       "    <tr>\n",
       "      <td>247</td>\n",
       "      <td>2513</td>\n",
       "    </tr>\n",
       "    <tr>\n",
       "      <td>248</td>\n",
       "      <td>2537</td>\n",
       "    </tr>\n",
       "  </tbody>\n",
       "</table>\n",
       "</div>"
      ],
      "text/plain": [
       "        total_users_in_group\n",
       "exp_id                      \n",
       "246                     2484\n",
       "247                     2513\n",
       "248                     2537"
      ]
     },
     "execution_count": 51,
     "metadata": {},
     "output_type": "execute_result"
    }
   ],
   "source": [
    "df_exp_grouped"
   ]
  },
  {
   "cell_type": "code",
   "execution_count": 52,
   "metadata": {},
   "outputs": [
    {
     "data": {
      "text/plain": [
       "1.0116747181964574"
      ]
     },
     "execution_count": 52,
     "metadata": {},
     "output_type": "execute_result"
    }
   ],
   "source": [
    "df_exp_grouped['total_users_in_group'][247] / df_exp_grouped['total_users_in_group'][246]"
   ]
  },
  {
   "cell_type": "code",
   "execution_count": 53,
   "metadata": {},
   "outputs": [
    {
     "data": {
      "text/plain": [
       "0    101.061224\n",
       "1     98.573281\n",
       "2     97.788310\n",
       "3     96.500000\n",
       "Name: total_users, dtype: float64"
      ]
     },
     "execution_count": 53,
     "metadata": {},
     "output_type": "execute_result"
    }
   ],
   "source": [
    "funnel_247['total_users'] / funnel_246['total_users'] * 100"
   ]
  },
  {
   "cell_type": "markdown",
   "metadata": {},
   "source": [
    "Проверим, есть ли пользователи, которые присутствуют больше, чем в 1 группе."
   ]
  },
  {
   "cell_type": "code",
   "execution_count": 54,
   "metadata": {},
   "outputs": [
    {
     "data": {
      "text/html": [
       "<div>\n",
       "<style scoped>\n",
       "    .dataframe tbody tr th:only-of-type {\n",
       "        vertical-align: middle;\n",
       "    }\n",
       "\n",
       "    .dataframe tbody tr th {\n",
       "        vertical-align: top;\n",
       "    }\n",
       "\n",
       "    .dataframe thead th {\n",
       "        text-align: right;\n",
       "    }\n",
       "</style>\n",
       "<table border=\"1\" class=\"dataframe\">\n",
       "  <thead>\n",
       "    <tr style=\"text-align: right;\">\n",
       "      <th></th>\n",
       "      <th>user_id</th>\n",
       "      <th>exp_id</th>\n",
       "    </tr>\n",
       "  </thead>\n",
       "  <tbody>\n",
       "  </tbody>\n",
       "</table>\n",
       "</div>"
      ],
      "text/plain": [
       "Empty DataFrame\n",
       "Columns: [user_id, exp_id]\n",
       "Index: []"
      ]
     },
     "execution_count": 54,
     "metadata": {},
     "output_type": "execute_result"
    }
   ],
   "source": [
    "df.groupby('user_id')['exp_id'].nunique().reset_index().query('exp_id > 1')"
   ]
  },
  {
   "cell_type": "markdown",
   "metadata": {},
   "source": []
  },
  {
   "cell_type": "markdown",
   "metadata": {},
   "source": [
    "<div class=\"alert alert-info\"> <b>\n",
    "</b> \n",
    "Как я понял, здесь мы формируем не различия или равенство в конверсиях, а наличие или отсутствие значимой разницы между долями этой конверсии.\n",
    "    \n",
    "\n",
    "Проверим гипотезы:\n",
    "1. H0: Между долями конверсии нет значимой разницы.\n",
    "2. H1: Между долями конверсии есть значимая разница.\n",
    "\n",
    "Уровень значимости берем альфа = 0,05.\n",
    "    \n",
    "</div>\n"
   ]
  },
  {
   "cell_type": "markdown",
   "metadata": {},
   "source": [
    "<div class=\"alert alert-success\">\n",
    "<b>Комментарий ревьюера v2:</b> Абсолютно верно 👍\n",
    "</div>"
   ]
  },
  {
   "cell_type": "code",
   "execution_count": 55,
   "metadata": {},
   "outputs": [],
   "source": [
    "#payment_246 = 1200 \n",
    "#payment_247 = 1159 \n",
    "#mainscreen_246 = 2452\n",
    "#mainscreen_247 = 2479"
   ]
  },
  {
   "cell_type": "code",
   "execution_count": 56,
   "metadata": {},
   "outputs": [
    {
     "data": {
      "text/html": [
       "<div>\n",
       "<style scoped>\n",
       "    .dataframe tbody tr th:only-of-type {\n",
       "        vertical-align: middle;\n",
       "    }\n",
       "\n",
       "    .dataframe tbody tr th {\n",
       "        vertical-align: top;\n",
       "    }\n",
       "\n",
       "    .dataframe thead th {\n",
       "        text-align: right;\n",
       "    }\n",
       "</style>\n",
       "<table border=\"1\" class=\"dataframe\">\n",
       "  <thead>\n",
       "    <tr style=\"text-align: right;\">\n",
       "      <th></th>\n",
       "      <th>exp_id</th>\n",
       "      <th>event_name</th>\n",
       "      <th>user_id</th>\n",
       "      <th>total_users_in_group</th>\n",
       "      <th>share_of_total</th>\n",
       "    </tr>\n",
       "  </thead>\n",
       "  <tbody>\n",
       "    <tr>\n",
       "      <td>11</td>\n",
       "      <td>248</td>\n",
       "      <td>MainScreenAppear</td>\n",
       "      <td>2493</td>\n",
       "      <td>2537</td>\n",
       "      <td>0.983</td>\n",
       "    </tr>\n",
       "    <tr>\n",
       "      <td>12</td>\n",
       "      <td>248</td>\n",
       "      <td>OffersScreenAppear</td>\n",
       "      <td>1531</td>\n",
       "      <td>2537</td>\n",
       "      <td>0.603</td>\n",
       "    </tr>\n",
       "    <tr>\n",
       "      <td>10</td>\n",
       "      <td>248</td>\n",
       "      <td>CartScreenAppear</td>\n",
       "      <td>1230</td>\n",
       "      <td>2537</td>\n",
       "      <td>0.485</td>\n",
       "    </tr>\n",
       "    <tr>\n",
       "      <td>13</td>\n",
       "      <td>248</td>\n",
       "      <td>PaymentScreenSuccessful</td>\n",
       "      <td>1181</td>\n",
       "      <td>2537</td>\n",
       "      <td>0.466</td>\n",
       "    </tr>\n",
       "    <tr>\n",
       "      <td>14</td>\n",
       "      <td>248</td>\n",
       "      <td>Tutorial</td>\n",
       "      <td>279</td>\n",
       "      <td>2537</td>\n",
       "      <td>0.110</td>\n",
       "    </tr>\n",
       "    <tr>\n",
       "      <td>6</td>\n",
       "      <td>247</td>\n",
       "      <td>MainScreenAppear</td>\n",
       "      <td>2476</td>\n",
       "      <td>2513</td>\n",
       "      <td>0.985</td>\n",
       "    </tr>\n",
       "    <tr>\n",
       "      <td>7</td>\n",
       "      <td>247</td>\n",
       "      <td>OffersScreenAppear</td>\n",
       "      <td>1520</td>\n",
       "      <td>2513</td>\n",
       "      <td>0.605</td>\n",
       "    </tr>\n",
       "    <tr>\n",
       "      <td>5</td>\n",
       "      <td>247</td>\n",
       "      <td>CartScreenAppear</td>\n",
       "      <td>1238</td>\n",
       "      <td>2513</td>\n",
       "      <td>0.493</td>\n",
       "    </tr>\n",
       "    <tr>\n",
       "      <td>8</td>\n",
       "      <td>247</td>\n",
       "      <td>PaymentScreenSuccessful</td>\n",
       "      <td>1158</td>\n",
       "      <td>2513</td>\n",
       "      <td>0.461</td>\n",
       "    </tr>\n",
       "    <tr>\n",
       "      <td>9</td>\n",
       "      <td>247</td>\n",
       "      <td>Tutorial</td>\n",
       "      <td>283</td>\n",
       "      <td>2513</td>\n",
       "      <td>0.113</td>\n",
       "    </tr>\n",
       "    <tr>\n",
       "      <td>1</td>\n",
       "      <td>246</td>\n",
       "      <td>MainScreenAppear</td>\n",
       "      <td>2450</td>\n",
       "      <td>2484</td>\n",
       "      <td>0.986</td>\n",
       "    </tr>\n",
       "    <tr>\n",
       "      <td>2</td>\n",
       "      <td>246</td>\n",
       "      <td>OffersScreenAppear</td>\n",
       "      <td>1542</td>\n",
       "      <td>2484</td>\n",
       "      <td>0.621</td>\n",
       "    </tr>\n",
       "    <tr>\n",
       "      <td>0</td>\n",
       "      <td>246</td>\n",
       "      <td>CartScreenAppear</td>\n",
       "      <td>1266</td>\n",
       "      <td>2484</td>\n",
       "      <td>0.510</td>\n",
       "    </tr>\n",
       "    <tr>\n",
       "      <td>3</td>\n",
       "      <td>246</td>\n",
       "      <td>PaymentScreenSuccessful</td>\n",
       "      <td>1200</td>\n",
       "      <td>2484</td>\n",
       "      <td>0.483</td>\n",
       "    </tr>\n",
       "    <tr>\n",
       "      <td>4</td>\n",
       "      <td>246</td>\n",
       "      <td>Tutorial</td>\n",
       "      <td>278</td>\n",
       "      <td>2484</td>\n",
       "      <td>0.112</td>\n",
       "    </tr>\n",
       "  </tbody>\n",
       "</table>\n",
       "</div>"
      ],
      "text/plain": [
       "    exp_id               event_name  user_id  total_users_in_group  \\\n",
       "11     248         MainScreenAppear     2493                  2537   \n",
       "12     248       OffersScreenAppear     1531                  2537   \n",
       "10     248         CartScreenAppear     1230                  2537   \n",
       "13     248  PaymentScreenSuccessful     1181                  2537   \n",
       "14     248                 Tutorial      279                  2537   \n",
       "6      247         MainScreenAppear     2476                  2513   \n",
       "7      247       OffersScreenAppear     1520                  2513   \n",
       "5      247         CartScreenAppear     1238                  2513   \n",
       "8      247  PaymentScreenSuccessful     1158                  2513   \n",
       "9      247                 Tutorial      283                  2513   \n",
       "1      246         MainScreenAppear     2450                  2484   \n",
       "2      246       OffersScreenAppear     1542                  2484   \n",
       "0      246         CartScreenAppear     1266                  2484   \n",
       "3      246  PaymentScreenSuccessful     1200                  2484   \n",
       "4      246                 Tutorial      278                  2484   \n",
       "\n",
       "    share_of_total  \n",
       "11           0.983  \n",
       "12           0.603  \n",
       "10           0.485  \n",
       "13           0.466  \n",
       "14           0.110  \n",
       "6            0.985  \n",
       "7            0.605  \n",
       "5            0.493  \n",
       "8            0.461  \n",
       "9            0.113  \n",
       "1            0.986  \n",
       "2            0.621  \n",
       "0            0.510  \n",
       "3            0.483  \n",
       "4            0.112  "
      ]
     },
     "execution_count": 56,
     "metadata": {},
     "output_type": "execute_result"
    }
   ],
   "source": [
    "exp_merged"
   ]
  },
  {
   "cell_type": "code",
   "execution_count": 57,
   "metadata": {},
   "outputs": [
    {
     "data": {
      "text/html": [
       "<div>\n",
       "<style scoped>\n",
       "    .dataframe tbody tr th:only-of-type {\n",
       "        vertical-align: middle;\n",
       "    }\n",
       "\n",
       "    .dataframe tbody tr th {\n",
       "        vertical-align: top;\n",
       "    }\n",
       "\n",
       "    .dataframe thead th {\n",
       "        text-align: right;\n",
       "    }\n",
       "</style>\n",
       "<table border=\"1\" class=\"dataframe\">\n",
       "  <thead>\n",
       "    <tr style=\"text-align: right;\">\n",
       "      <th></th>\n",
       "      <th>exp_id</th>\n",
       "      <th>event_name</th>\n",
       "      <th>user_id</th>\n",
       "      <th>total_users_in_group</th>\n",
       "      <th>share_of_total</th>\n",
       "    </tr>\n",
       "  </thead>\n",
       "  <tbody>\n",
       "    <tr>\n",
       "      <td>1</td>\n",
       "      <td>246</td>\n",
       "      <td>MainScreenAppear</td>\n",
       "      <td>2450</td>\n",
       "      <td>2484</td>\n",
       "      <td>0.986</td>\n",
       "    </tr>\n",
       "    <tr>\n",
       "      <td>2</td>\n",
       "      <td>246</td>\n",
       "      <td>OffersScreenAppear</td>\n",
       "      <td>1542</td>\n",
       "      <td>2484</td>\n",
       "      <td>0.621</td>\n",
       "    </tr>\n",
       "    <tr>\n",
       "      <td>0</td>\n",
       "      <td>246</td>\n",
       "      <td>CartScreenAppear</td>\n",
       "      <td>1266</td>\n",
       "      <td>2484</td>\n",
       "      <td>0.510</td>\n",
       "    </tr>\n",
       "    <tr>\n",
       "      <td>3</td>\n",
       "      <td>246</td>\n",
       "      <td>PaymentScreenSuccessful</td>\n",
       "      <td>1200</td>\n",
       "      <td>2484</td>\n",
       "      <td>0.483</td>\n",
       "    </tr>\n",
       "    <tr>\n",
       "      <td>4</td>\n",
       "      <td>246</td>\n",
       "      <td>Tutorial</td>\n",
       "      <td>278</td>\n",
       "      <td>2484</td>\n",
       "      <td>0.112</td>\n",
       "    </tr>\n",
       "  </tbody>\n",
       "</table>\n",
       "</div>"
      ],
      "text/plain": [
       "   exp_id               event_name  user_id  total_users_in_group  \\\n",
       "1     246         MainScreenAppear     2450                  2484   \n",
       "2     246       OffersScreenAppear     1542                  2484   \n",
       "0     246         CartScreenAppear     1266                  2484   \n",
       "3     246  PaymentScreenSuccessful     1200                  2484   \n",
       "4     246                 Tutorial      278                  2484   \n",
       "\n",
       "   share_of_total  \n",
       "1           0.986  \n",
       "2           0.621  \n",
       "0           0.510  \n",
       "3           0.483  \n",
       "4           0.112  "
      ]
     },
     "execution_count": 57,
     "metadata": {},
     "output_type": "execute_result"
    }
   ],
   "source": [
    "exp_merged[exp_merged['exp_id']==246]"
   ]
  },
  {
   "cell_type": "code",
   "execution_count": 58,
   "metadata": {},
   "outputs": [
    {
     "data": {
      "text/html": [
       "<div>\n",
       "<style scoped>\n",
       "    .dataframe tbody tr th:only-of-type {\n",
       "        vertical-align: middle;\n",
       "    }\n",
       "\n",
       "    .dataframe tbody tr th {\n",
       "        vertical-align: top;\n",
       "    }\n",
       "\n",
       "    .dataframe thead th {\n",
       "        text-align: right;\n",
       "    }\n",
       "</style>\n",
       "<table border=\"1\" class=\"dataframe\">\n",
       "  <thead>\n",
       "    <tr style=\"text-align: right;\">\n",
       "      <th></th>\n",
       "      <th>exp_id</th>\n",
       "      <th>event_name</th>\n",
       "      <th>user_id</th>\n",
       "      <th>total_users_in_group</th>\n",
       "      <th>share_of_total</th>\n",
       "    </tr>\n",
       "  </thead>\n",
       "  <tbody>\n",
       "    <tr>\n",
       "      <td>13</td>\n",
       "      <td>248</td>\n",
       "      <td>PaymentScreenSuccessful</td>\n",
       "      <td>1181</td>\n",
       "      <td>2537</td>\n",
       "      <td>0.466</td>\n",
       "    </tr>\n",
       "    <tr>\n",
       "      <td>8</td>\n",
       "      <td>247</td>\n",
       "      <td>PaymentScreenSuccessful</td>\n",
       "      <td>1158</td>\n",
       "      <td>2513</td>\n",
       "      <td>0.461</td>\n",
       "    </tr>\n",
       "    <tr>\n",
       "      <td>3</td>\n",
       "      <td>246</td>\n",
       "      <td>PaymentScreenSuccessful</td>\n",
       "      <td>1200</td>\n",
       "      <td>2484</td>\n",
       "      <td>0.483</td>\n",
       "    </tr>\n",
       "  </tbody>\n",
       "</table>\n",
       "</div>"
      ],
      "text/plain": [
       "    exp_id               event_name  user_id  total_users_in_group  \\\n",
       "13     248  PaymentScreenSuccessful     1181                  2537   \n",
       "8      247  PaymentScreenSuccessful     1158                  2513   \n",
       "3      246  PaymentScreenSuccessful     1200                  2484   \n",
       "\n",
       "    share_of_total  \n",
       "13           0.466  \n",
       "8            0.461  \n",
       "3            0.483  "
      ]
     },
     "execution_count": 58,
     "metadata": {},
     "output_type": "execute_result"
    }
   ],
   "source": [
    "exp_merged[exp_merged['event_name']=='PaymentScreenSuccessful']"
   ]
  },
  {
   "cell_type": "code",
   "execution_count": 59,
   "metadata": {},
   "outputs": [
    {
     "data": {
      "text/plain": [
       "3    1200\n",
       "Name: user_id, dtype: int64"
      ]
     },
     "execution_count": 59,
     "metadata": {},
     "output_type": "execute_result"
    }
   ],
   "source": [
    "payment_246 = exp_merged[(exp_merged['exp_id'] ==246) & (exp_merged['event_name']=='PaymentScreenSuccessful')].loc[:, 'user_id']\n",
    "payment_246"
   ]
  },
  {
   "cell_type": "code",
   "execution_count": 60,
   "metadata": {},
   "outputs": [
    {
     "data": {
      "text/plain": [
       "8    1158\n",
       "Name: user_id, dtype: int64"
      ]
     },
     "execution_count": 60,
     "metadata": {},
     "output_type": "execute_result"
    }
   ],
   "source": [
    "payment_247 = exp_merged[(exp_merged['exp_id'] ==247) & (exp_merged['event_name']=='PaymentScreenSuccessful')].loc[:, 'user_id']\n",
    "payment_247"
   ]
  },
  {
   "cell_type": "code",
   "execution_count": 61,
   "metadata": {},
   "outputs": [
    {
     "data": {
      "text/plain": [
       "1    2450\n",
       "Name: user_id, dtype: int64"
      ]
     },
     "execution_count": 61,
     "metadata": {},
     "output_type": "execute_result"
    }
   ],
   "source": [
    "mainscreen_246 = exp_merged[(exp_merged['exp_id'] ==246) & (exp_merged['event_name']=='MainScreenAppear')].loc[:, 'user_id']\n",
    "mainscreen_246"
   ]
  },
  {
   "cell_type": "code",
   "execution_count": 62,
   "metadata": {},
   "outputs": [
    {
     "data": {
      "text/plain": [
       "6    2476\n",
       "Name: user_id, dtype: int64"
      ]
     },
     "execution_count": 62,
     "metadata": {},
     "output_type": "execute_result"
    }
   ],
   "source": [
    "mainscreen_247 = exp_merged[(exp_merged['exp_id'] ==247) & (exp_merged['event_name']=='MainScreenAppear')].loc[:, 'user_id']\n",
    "mainscreen_247"
   ]
  },
  {
   "cell_type": "markdown",
   "metadata": {},
   "source": [
    "<div class=\"alert alert-info\"> <b>\n",
    "</b> \n",
    "Готово!\n",
    "    \n",
    "</div>\n"
   ]
  },
  {
   "cell_type": "code",
   "execution_count": 63,
   "metadata": {},
   "outputs": [
    {
     "name": "stdout",
     "output_type": "stream",
     "text": [
      "p-значение:  [0.12044299]\n",
      "Не получилось отвергнуть нулевую гипотезу, нет оснований считать доли конверсии разными в группах 246 и 257 разными\n"
     ]
    }
   ],
   "source": [
    "alpha = .05 \n",
    "payments = np.array([payment_246, payment_247])\n",
    "mainscreens = np.array([mainscreen_246, mainscreen_247])\n",
    "# пропорция конверсии в группе 246\n",
    "p1 = payments[0] / mainscreens[0]\n",
    "# пропорция конверсии в группе 247\n",
    "p2 = payments[1] / mainscreens[1]\n",
    "p_combined = (payments[0] + payments[1]) / (mainscreens[0] + mainscreens[1])\n",
    "difference = p1 - p2 \n",
    "# считаем статистику в ст.отклонениях стандартного нормального распределения  \n",
    "z_value = difference / mth.sqrt(p_combined * (1 - p_combined) * (1 / mainscreens[0] + 1 / mainscreens[1]))\n",
    "# задаем стандартное нормальное распределение (среднее 0, ст.отклонение 1)\n",
    "distr = st.norm(0, 1)\n",
    "p_value = (1 - distr.cdf(abs(z_value))) * 2\n",
    "print('p-значение: ', p_value)\n",
    "if p_value < alpha:\n",
    "    print('Отвергаем нулевую гипотезу: между долями конверсии в группах 246 и 247 есть значимая разница')\n",
    "else:\n",
    "    print('Не получилось отвергнуть нулевую гипотезу, нет оснований считать доли конверсии разными в группах 246 и 257 разными') "
   ]
  },
  {
   "cell_type": "markdown",
   "metadata": {},
   "source": [
    "Количество пользователей отличается чуть более, чем на 1%. В двух группах одни и те же события,т.е. данные собираются об одном и том же. Пользователи остаются в одной группе до конца эксперимента. Отличия не такие большие и не имеют статистической значимости. Следовательно, группы, подобранные для теста А/А, не имеют статистически значимых различий по конверсии в покупку и сформированы правильно."
   ]
  },
  {
   "cell_type": "markdown",
   "metadata": {},
   "source": [
    "Найдем число пользователей на каждом этапе воронки в разных группах (и в объединенной контрольной группе 246+247)."
   ]
  },
  {
   "cell_type": "code",
   "execution_count": 64,
   "metadata": {},
   "outputs": [
    {
     "data": {
      "text/html": [
       "<div>\n",
       "<style scoped>\n",
       "    .dataframe tbody tr th:only-of-type {\n",
       "        vertical-align: middle;\n",
       "    }\n",
       "\n",
       "    .dataframe tbody tr th {\n",
       "        vertical-align: top;\n",
       "    }\n",
       "\n",
       "    .dataframe thead th {\n",
       "        text-align: right;\n",
       "    }\n",
       "</style>\n",
       "<table border=\"1\" class=\"dataframe\">\n",
       "  <thead>\n",
       "    <tr style=\"text-align: right;\">\n",
       "      <th></th>\n",
       "      <th>total_users_in_group</th>\n",
       "    </tr>\n",
       "    <tr>\n",
       "      <th>exp_id</th>\n",
       "      <th></th>\n",
       "    </tr>\n",
       "  </thead>\n",
       "  <tbody>\n",
       "    <tr>\n",
       "      <td>246</td>\n",
       "      <td>2484</td>\n",
       "    </tr>\n",
       "    <tr>\n",
       "      <td>247</td>\n",
       "      <td>2513</td>\n",
       "    </tr>\n",
       "    <tr>\n",
       "      <td>248</td>\n",
       "      <td>2537</td>\n",
       "    </tr>\n",
       "  </tbody>\n",
       "</table>\n",
       "</div>"
      ],
      "text/plain": [
       "        total_users_in_group\n",
       "exp_id                      \n",
       "246                     2484\n",
       "247                     2513\n",
       "248                     2537"
      ]
     },
     "execution_count": 64,
     "metadata": {},
     "output_type": "execute_result"
    }
   ],
   "source": [
    "df_exp_grouped"
   ]
  },
  {
   "cell_type": "code",
   "execution_count": 65,
   "metadata": {},
   "outputs": [
    {
     "data": {
      "text/html": [
       "<div>\n",
       "<style scoped>\n",
       "    .dataframe tbody tr th:only-of-type {\n",
       "        vertical-align: middle;\n",
       "    }\n",
       "\n",
       "    .dataframe tbody tr th {\n",
       "        vertical-align: top;\n",
       "    }\n",
       "\n",
       "    .dataframe thead th {\n",
       "        text-align: right;\n",
       "    }\n",
       "</style>\n",
       "<table border=\"1\" class=\"dataframe\">\n",
       "  <thead>\n",
       "    <tr style=\"text-align: right;\">\n",
       "      <th></th>\n",
       "      <th>event_name</th>\n",
       "      <th>246</th>\n",
       "      <th>247</th>\n",
       "      <th>248</th>\n",
       "    </tr>\n",
       "  </thead>\n",
       "  <tbody>\n",
       "    <tr>\n",
       "      <td>0</td>\n",
       "      <td>MainScreenAppear</td>\n",
       "      <td>2450</td>\n",
       "      <td>2476</td>\n",
       "      <td>2493</td>\n",
       "    </tr>\n",
       "    <tr>\n",
       "      <td>1</td>\n",
       "      <td>OffersScreenAppear</td>\n",
       "      <td>1542</td>\n",
       "      <td>1520</td>\n",
       "      <td>1531</td>\n",
       "    </tr>\n",
       "    <tr>\n",
       "      <td>2</td>\n",
       "      <td>CartScreenAppear</td>\n",
       "      <td>1266</td>\n",
       "      <td>1238</td>\n",
       "      <td>1230</td>\n",
       "    </tr>\n",
       "    <tr>\n",
       "      <td>3</td>\n",
       "      <td>PaymentScreenSuccessful</td>\n",
       "      <td>1200</td>\n",
       "      <td>1158</td>\n",
       "      <td>1181</td>\n",
       "    </tr>\n",
       "  </tbody>\n",
       "</table>\n",
       "</div>"
      ],
      "text/plain": [
       "                event_name   246   247   248\n",
       "0         MainScreenAppear  2450  2476  2493\n",
       "1       OffersScreenAppear  1542  1520  1531\n",
       "2         CartScreenAppear  1266  1238  1230\n",
       "3  PaymentScreenSuccessful  1200  1158  1181"
      ]
     },
     "execution_count": 65,
     "metadata": {},
     "output_type": "execute_result"
    }
   ],
   "source": [
    "merged_funnel = pd.merge(funnel_246, funnel_247,  on='event_name').merge(funnel_248,  on='event_name')\n",
    "merged_funnel = merged_funnel.rename(columns={'total_users_x':246, 'total_users_y':247, 'total_users':248})\n",
    "\n",
    "merged_funnel"
   ]
  },
  {
   "cell_type": "markdown",
   "metadata": {},
   "source": [
    "Уже находили, что самое популярное событие - заход на главную страницу."
   ]
  },
  {
   "cell_type": "code",
   "execution_count": 66,
   "metadata": {},
   "outputs": [
    {
     "data": {
      "text/html": [
       "<div>\n",
       "<style scoped>\n",
       "    .dataframe tbody tr th:only-of-type {\n",
       "        vertical-align: middle;\n",
       "    }\n",
       "\n",
       "    .dataframe tbody tr th {\n",
       "        vertical-align: top;\n",
       "    }\n",
       "\n",
       "    .dataframe thead th {\n",
       "        text-align: right;\n",
       "    }\n",
       "</style>\n",
       "<table border=\"1\" class=\"dataframe\">\n",
       "  <thead>\n",
       "    <tr style=\"text-align: right;\">\n",
       "      <th>exp_id</th>\n",
       "      <th>246</th>\n",
       "      <th>247</th>\n",
       "      <th>248</th>\n",
       "      <th>246+247</th>\n",
       "    </tr>\n",
       "    <tr>\n",
       "      <th>event_name</th>\n",
       "      <th></th>\n",
       "      <th></th>\n",
       "      <th></th>\n",
       "      <th></th>\n",
       "    </tr>\n",
       "  </thead>\n",
       "  <tbody>\n",
       "    <tr>\n",
       "      <td>MainScreenAppear</td>\n",
       "      <td>2450</td>\n",
       "      <td>2476</td>\n",
       "      <td>2493</td>\n",
       "      <td>4926</td>\n",
       "    </tr>\n",
       "    <tr>\n",
       "      <td>OffersScreenAppear</td>\n",
       "      <td>1542</td>\n",
       "      <td>1520</td>\n",
       "      <td>1531</td>\n",
       "      <td>3062</td>\n",
       "    </tr>\n",
       "    <tr>\n",
       "      <td>CartScreenAppear</td>\n",
       "      <td>1266</td>\n",
       "      <td>1238</td>\n",
       "      <td>1230</td>\n",
       "      <td>2504</td>\n",
       "    </tr>\n",
       "    <tr>\n",
       "      <td>PaymentScreenSuccessful</td>\n",
       "      <td>1200</td>\n",
       "      <td>1158</td>\n",
       "      <td>1181</td>\n",
       "      <td>2358</td>\n",
       "    </tr>\n",
       "  </tbody>\n",
       "</table>\n",
       "</div>"
      ],
      "text/plain": [
       "exp_id                    246   247   248  246+247\n",
       "event_name                                        \n",
       "MainScreenAppear         2450  2476  2493     4926\n",
       "OffersScreenAppear       1542  1520  1531     3062\n",
       "CartScreenAppear         1266  1238  1230     2504\n",
       "PaymentScreenSuccessful  1200  1158  1181     2358"
      ]
     },
     "execution_count": 66,
     "metadata": {},
     "output_type": "execute_result"
    }
   ],
   "source": [
    "all_funnels = df.pivot_table(index='event_name', columns='exp_id',values='user_id',aggfunc='nunique')\\\n",
    "                       .sort_values(246,ascending=False)\n",
    "all_funnels['246+247'] = all_funnels[246] + all_funnels[247]\n",
    "all_funnels.drop(['Tutorial'], inplace=True)\n",
    "all_funnels\n"
   ]
  },
  {
   "cell_type": "code",
   "execution_count": 67,
   "metadata": {},
   "outputs": [
    {
     "data": {
      "text/html": [
       "<div>\n",
       "<style scoped>\n",
       "    .dataframe tbody tr th:only-of-type {\n",
       "        vertical-align: middle;\n",
       "    }\n",
       "\n",
       "    .dataframe tbody tr th {\n",
       "        vertical-align: top;\n",
       "    }\n",
       "\n",
       "    .dataframe thead th {\n",
       "        text-align: right;\n",
       "    }\n",
       "</style>\n",
       "<table border=\"1\" class=\"dataframe\">\n",
       "  <thead>\n",
       "    <tr style=\"text-align: right;\">\n",
       "      <th></th>\n",
       "      <th>total_users_in_group</th>\n",
       "    </tr>\n",
       "    <tr>\n",
       "      <th>exp_id</th>\n",
       "      <th></th>\n",
       "    </tr>\n",
       "  </thead>\n",
       "  <tbody>\n",
       "    <tr>\n",
       "      <td>246</td>\n",
       "      <td>2484</td>\n",
       "    </tr>\n",
       "    <tr>\n",
       "      <td>247</td>\n",
       "      <td>2513</td>\n",
       "    </tr>\n",
       "    <tr>\n",
       "      <td>248</td>\n",
       "      <td>2537</td>\n",
       "    </tr>\n",
       "  </tbody>\n",
       "</table>\n",
       "</div>"
      ],
      "text/plain": [
       "        total_users_in_group\n",
       "exp_id                      \n",
       "246                     2484\n",
       "247                     2513\n",
       "248                     2537"
      ]
     },
     "execution_count": 67,
     "metadata": {},
     "output_type": "execute_result"
    }
   ],
   "source": [
    "df_exp_grouped"
   ]
  },
  {
   "cell_type": "code",
   "execution_count": 68,
   "metadata": {},
   "outputs": [
    {
     "data": {
      "text/plain": [
       "4997"
      ]
     },
     "execution_count": 68,
     "metadata": {},
     "output_type": "execute_result"
    }
   ],
   "source": [
    "total_246_and_247 = df_exp_grouped.loc[246, 'total_users_in_group'] + df_exp_grouped.loc[247, 'total_users_in_group']\n",
    "total_246_and_247\n"
   ]
  },
  {
   "cell_type": "code",
   "execution_count": 69,
   "metadata": {},
   "outputs": [
    {
     "data": {
      "text/html": [
       "<div>\n",
       "<style scoped>\n",
       "    .dataframe tbody tr th:only-of-type {\n",
       "        vertical-align: middle;\n",
       "    }\n",
       "\n",
       "    .dataframe tbody tr th {\n",
       "        vertical-align: top;\n",
       "    }\n",
       "\n",
       "    .dataframe thead th {\n",
       "        text-align: right;\n",
       "    }\n",
       "</style>\n",
       "<table border=\"1\" class=\"dataframe\">\n",
       "  <thead>\n",
       "    <tr style=\"text-align: right;\">\n",
       "      <th></th>\n",
       "      <th>exp_id</th>\n",
       "      <th>total_users_in_group</th>\n",
       "    </tr>\n",
       "  </thead>\n",
       "  <tbody>\n",
       "    <tr>\n",
       "      <td>0</td>\n",
       "      <td>246</td>\n",
       "      <td>2484</td>\n",
       "    </tr>\n",
       "    <tr>\n",
       "      <td>1</td>\n",
       "      <td>247</td>\n",
       "      <td>2513</td>\n",
       "    </tr>\n",
       "    <tr>\n",
       "      <td>2</td>\n",
       "      <td>248</td>\n",
       "      <td>2537</td>\n",
       "    </tr>\n",
       "    <tr>\n",
       "      <td>3</td>\n",
       "      <td>246+247</td>\n",
       "      <td>4997</td>\n",
       "    </tr>\n",
       "  </tbody>\n",
       "</table>\n",
       "</div>"
      ],
      "text/plain": [
       "    exp_id  total_users_in_group\n",
       "0      246                  2484\n",
       "1      247                  2513\n",
       "2      248                  2537\n",
       "3  246+247                  4997"
      ]
     },
     "execution_count": 69,
     "metadata": {},
     "output_type": "execute_result"
    }
   ],
   "source": [
    "total_users = df_exp_grouped.reset_index()\n",
    "total_users.loc[3] = ['246+247', total_246_and_247]\n",
    "total_users"
   ]
  },
  {
   "cell_type": "markdown",
   "metadata": {},
   "source": [
    "<div class=\"alert alert-info\"> <b>\n",
    "</b> \n",
    "Исправил\n",
    "    \n",
    "</div>\n"
   ]
  },
  {
   "cell_type": "code",
   "execution_count": 70,
   "metadata": {},
   "outputs": [
    {
     "data": {
      "text/html": [
       "<div>\n",
       "<style scoped>\n",
       "    .dataframe tbody tr th:only-of-type {\n",
       "        vertical-align: middle;\n",
       "    }\n",
       "\n",
       "    .dataframe tbody tr th {\n",
       "        vertical-align: top;\n",
       "    }\n",
       "\n",
       "    .dataframe thead th {\n",
       "        text-align: right;\n",
       "    }\n",
       "</style>\n",
       "<table border=\"1\" class=\"dataframe\">\n",
       "  <thead>\n",
       "    <tr style=\"text-align: right;\">\n",
       "      <th></th>\n",
       "      <th>total_users_in_group</th>\n",
       "    </tr>\n",
       "    <tr>\n",
       "      <th>exp_id</th>\n",
       "      <th></th>\n",
       "    </tr>\n",
       "  </thead>\n",
       "  <tbody>\n",
       "    <tr>\n",
       "      <td>246</td>\n",
       "      <td>2484</td>\n",
       "    </tr>\n",
       "    <tr>\n",
       "      <td>247</td>\n",
       "      <td>2513</td>\n",
       "    </tr>\n",
       "    <tr>\n",
       "      <td>248</td>\n",
       "      <td>2537</td>\n",
       "    </tr>\n",
       "    <tr>\n",
       "      <td>246+247</td>\n",
       "      <td>4997</td>\n",
       "    </tr>\n",
       "  </tbody>\n",
       "</table>\n",
       "</div>"
      ],
      "text/plain": [
       "         total_users_in_group\n",
       "exp_id                       \n",
       "246                      2484\n",
       "247                      2513\n",
       "248                      2537\n",
       "246+247                  4997"
      ]
     },
     "execution_count": 70,
     "metadata": {},
     "output_type": "execute_result"
    }
   ],
   "source": [
    "total_users = total_users.set_index(total_users.columns[0])\n",
    "total_users"
   ]
  },
  {
   "cell_type": "markdown",
   "metadata": {},
   "source": [
    "Сделаем функцию, которая будет проводить z-тест для разных групп по каждому событию."
   ]
  },
  {
   "cell_type": "code",
   "execution_count": 71,
   "metadata": {},
   "outputs": [],
   "source": [
    "def z_test(exp1, exp2, event, alpha): \n",
    "    p1_ev = all_funnels.loc[event, exp1]\n",
    "    p2_ev = all_funnels.loc[event, exp2] \n",
    "    p1_us = total_users.loc[exp1, 'total_users_in_group'] \n",
    "    p2_us = total_users.loc[exp2, 'total_users_in_group'] \n",
    "    p1 = p1_ev / p1_us \n",
    "    p2 = p2_ev / p2_us \n",
    "    difference = p1 - p2\n",
    "    p_combined = (p1_ev + p2_ev) / (p1_us + p2_us) \n",
    "    z_value = difference / mth.sqrt(p_combined * (1 - p_combined) * (1 / p1_us + 1 / p2_us))\n",
    "    distr = st.norm(0, 1)\n",
    "    p_value = (1 - distr.cdf(abs(z_value))) * 2\n",
    "    print('Проверка для  {} и {}, событие: {}, p-значение: {p_value:.2f}'.format(exp1, exp2, event, p_value=p_value))\n",
    "    if (p_value < alpha):\n",
    "        print(\"Отвергаем нулевую гипотезу\")\n",
    "    else:\n",
    "        print(\"Не получилось отвергнуть нулевую гипотезу\")"
   ]
  },
  {
   "cell_type": "markdown",
   "metadata": {},
   "source": [
    "<div class=\"alert alert-info\"> <b>\n",
    "</b> \n",
    "\n",
    "Гипотезы теста:\n",
    "    \n",
    "1. H0: Между долями по событию Х нет значимой разницы в двух группах.\n",
    "2. H1: Между долями по событию Х есть значимая разница.\n",
    "    \n",
    "</div>\n",
    "\n"
   ]
  },
  {
   "cell_type": "code",
   "execution_count": 72,
   "metadata": {},
   "outputs": [
    {
     "name": "stdout",
     "output_type": "stream",
     "text": [
      "Проверка для  246 и 247, событие: MainScreenAppear, p-значение: 0.76\n",
      "Не получилось отвергнуть нулевую гипотезу\n",
      "\n",
      "Проверка для  246 и 247, событие: OffersScreenAppear, p-значение: 0.25\n",
      "Не получилось отвергнуть нулевую гипотезу\n",
      "\n",
      "Проверка для  246 и 247, событие: CartScreenAppear, p-значение: 0.23\n",
      "Не получилось отвергнуть нулевую гипотезу\n",
      "\n",
      "Проверка для  246 и 247, событие: PaymentScreenSuccessful, p-значение: 0.11\n",
      "Не получилось отвергнуть нулевую гипотезу\n",
      "\n"
     ]
    }
   ],
   "source": [
    "for event in all_funnels.index:\n",
    "    z_test(246, 247, event, 0.05)\n",
    "    print()"
   ]
  },
  {
   "cell_type": "markdown",
   "metadata": {},
   "source": [
    "После проверки по всем событиям, нельзя подтвердить наличие различий между показателями 2 контрольных групп 246 и 247. Соответственно, разбиение на группы произошло корректно."
   ]
  },
  {
   "cell_type": "markdown",
   "metadata": {},
   "source": [
    "Далее переходим к сравнению контрольных и экспериментальных групп."
   ]
  },
  {
   "cell_type": "code",
   "execution_count": 73,
   "metadata": {},
   "outputs": [
    {
     "name": "stdout",
     "output_type": "stream",
     "text": [
      "Проверка для  246 и 248, событие: MainScreenAppear, p-значение: 0.29\n",
      "Не получилось отвергнуть нулевую гипотезу\n",
      "\n",
      "Проверка для  246 и 248, событие: OffersScreenAppear, p-значение: 0.21\n",
      "Не получилось отвергнуть нулевую гипотезу\n",
      "\n",
      "Проверка для  246 и 248, событие: CartScreenAppear, p-значение: 0.08\n",
      "Не получилось отвергнуть нулевую гипотезу\n",
      "\n",
      "Проверка для  246 и 248, событие: PaymentScreenSuccessful, p-значение: 0.21\n",
      "Не получилось отвергнуть нулевую гипотезу\n",
      "\n"
     ]
    }
   ],
   "source": [
    "for event in all_funnels.index:\n",
    "    z_test(246, 248, event, 0.05)\n",
    "    print()"
   ]
  },
  {
   "cell_type": "code",
   "execution_count": 74,
   "metadata": {},
   "outputs": [
    {
     "name": "stdout",
     "output_type": "stream",
     "text": [
      "Проверка для  247 и 248, событие: MainScreenAppear, p-значение: 0.46\n",
      "Не получилось отвергнуть нулевую гипотезу\n",
      "\n",
      "Проверка для  247 и 248, событие: OffersScreenAppear, p-значение: 0.92\n",
      "Не получилось отвергнуть нулевую гипотезу\n",
      "\n",
      "Проверка для  247 и 248, событие: CartScreenAppear, p-значение: 0.58\n",
      "Не получилось отвергнуть нулевую гипотезу\n",
      "\n",
      "Проверка для  247 и 248, событие: PaymentScreenSuccessful, p-значение: 0.74\n",
      "Не получилось отвергнуть нулевую гипотезу\n",
      "\n"
     ]
    }
   ],
   "source": [
    "for event in all_funnels.index:\n",
    "    z_test(247, 248, event, 0.05)\n",
    "    print()"
   ]
  },
  {
   "cell_type": "code",
   "execution_count": 75,
   "metadata": {},
   "outputs": [
    {
     "name": "stdout",
     "output_type": "stream",
     "text": [
      "Проверка для  246+247 и 248, событие: MainScreenAppear, p-значение: 0.29\n",
      "Не получилось отвергнуть нулевую гипотезу\n",
      "\n",
      "Проверка для  246+247 и 248, событие: OffersScreenAppear, p-значение: 0.43\n",
      "Не получилось отвергнуть нулевую гипотезу\n",
      "\n",
      "Проверка для  246+247 и 248, событие: CartScreenAppear, p-значение: 0.18\n",
      "Не получилось отвергнуть нулевую гипотезу\n",
      "\n",
      "Проверка для  246+247 и 248, событие: PaymentScreenSuccessful, p-значение: 0.60\n",
      "Не получилось отвергнуть нулевую гипотезу\n",
      "\n"
     ]
    }
   ],
   "source": [
    "for event in all_funnels.index:\n",
    "    z_test('246+247', 248, event, 0.05)\n",
    "    print()"
   ]
  },
  {
   "cell_type": "markdown",
   "metadata": {},
   "source": [
    "<div class=\"alert alert-success\">\n",
    "<b>Комментарий ревьюера:</b> Отлично, с технической точки зрения все тесты правильные!\n",
    "</div>"
   ]
  },
  {
   "cell_type": "markdown",
   "metadata": {},
   "source": [
    "По результатам статистической проверки не получилось отвергнуть нулевую гипотезу, следовательно, нет оснований полагать, что между долями по событиям конверсии есть значимая разница в контрольной и экспериментальной группах. Следовательно, можем считать, что новый шрифт в приложении не имеет статистической значимости для показателей конверсии и не повлиял на них существенным образом.\n",
    "Всего было проведено 12 тестов (не считая проверку А/А теста). Был взят уровень значимости 0.05. \n",
    "\n",
    "Можно проверить другие стандартные значения альфа (0,1 и 0,01). "
   ]
  },
  {
   "cell_type": "code",
   "execution_count": 76,
   "metadata": {},
   "outputs": [
    {
     "name": "stdout",
     "output_type": "stream",
     "text": [
      "Проверка для  246 и 248, событие: MainScreenAppear, p-значение: 0.29\n",
      "Не получилось отвергнуть нулевую гипотезу\n",
      "\n",
      "Проверка для  246 и 248, событие: OffersScreenAppear, p-значение: 0.21\n",
      "Не получилось отвергнуть нулевую гипотезу\n",
      "\n",
      "Проверка для  246 и 248, событие: CartScreenAppear, p-значение: 0.08\n",
      "Отвергаем нулевую гипотезу\n",
      "\n",
      "Проверка для  246 и 248, событие: PaymentScreenSuccessful, p-значение: 0.21\n",
      "Не получилось отвергнуть нулевую гипотезу\n",
      "\n",
      "Проверка для  247 и 248, событие: MainScreenAppear, p-значение: 0.46\n",
      "Не получилось отвергнуть нулевую гипотезу\n",
      "\n",
      "Проверка для  247 и 248, событие: OffersScreenAppear, p-значение: 0.92\n",
      "Не получилось отвергнуть нулевую гипотезу\n",
      "\n",
      "Проверка для  247 и 248, событие: CartScreenAppear, p-значение: 0.58\n",
      "Не получилось отвергнуть нулевую гипотезу\n",
      "\n",
      "Проверка для  247 и 248, событие: PaymentScreenSuccessful, p-значение: 0.74\n",
      "Не получилось отвергнуть нулевую гипотезу\n",
      "\n",
      "Проверка для  246+247 и 248, событие: MainScreenAppear, p-значение: 0.29\n",
      "Не получилось отвергнуть нулевую гипотезу\n",
      "\n",
      "Проверка для  246+247 и 248, событие: OffersScreenAppear, p-значение: 0.43\n",
      "Не получилось отвергнуть нулевую гипотезу\n",
      "\n",
      "Проверка для  246+247 и 248, событие: CartScreenAppear, p-значение: 0.18\n",
      "Не получилось отвергнуть нулевую гипотезу\n",
      "\n",
      "Проверка для  246+247 и 248, событие: PaymentScreenSuccessful, p-значение: 0.60\n",
      "Не получилось отвергнуть нулевую гипотезу\n",
      "\n"
     ]
    }
   ],
   "source": [
    "for event in all_funnels.index:\n",
    "    z_test(246, 248, event, 0.1)\n",
    "    print()\n",
    "for event in all_funnels.index:\n",
    "    z_test(247, 248, event, 0.1)\n",
    "    print()\n",
    "for event in all_funnels.index:\n",
    "    z_test('246+247', 248, event, 0.1)\n",
    "    print()"
   ]
  },
  {
   "cell_type": "markdown",
   "metadata": {},
   "source": [
    "При уровне значимости 0.1 каждый десятый раз можно получать ложный результат. Если бы у нас был только 1 тест, то мы могли бы взять уровень значимости в 0,1, но т.к. у нас 12 экспериментов, то мы, скорее всего, получим ложный результат хотя бы в 1 эксперименте. (Здесь мы получили другой результат в проверке для  246 и 248, события: CartScreenAppear, p-значение: 0.10\n",
    "Отвергаем нулевую гипотезу)"
   ]
  },
  {
   "cell_type": "code",
   "execution_count": 77,
   "metadata": {},
   "outputs": [
    {
     "name": "stdout",
     "output_type": "stream",
     "text": [
      "Проверка для  246 и 248, событие: MainScreenAppear, p-значение: 0.29\n",
      "Не получилось отвергнуть нулевую гипотезу\n",
      "\n",
      "Проверка для  246 и 248, событие: OffersScreenAppear, p-значение: 0.21\n",
      "Не получилось отвергнуть нулевую гипотезу\n",
      "\n",
      "Проверка для  246 и 248, событие: CartScreenAppear, p-значение: 0.08\n",
      "Не получилось отвергнуть нулевую гипотезу\n",
      "\n",
      "Проверка для  246 и 248, событие: PaymentScreenSuccessful, p-значение: 0.21\n",
      "Не получилось отвергнуть нулевую гипотезу\n",
      "\n",
      "Проверка для  247 и 248, событие: MainScreenAppear, p-значение: 0.46\n",
      "Не получилось отвергнуть нулевую гипотезу\n",
      "\n",
      "Проверка для  247 и 248, событие: OffersScreenAppear, p-значение: 0.92\n",
      "Не получилось отвергнуть нулевую гипотезу\n",
      "\n",
      "Проверка для  247 и 248, событие: CartScreenAppear, p-значение: 0.58\n",
      "Не получилось отвергнуть нулевую гипотезу\n",
      "\n",
      "Проверка для  247 и 248, событие: PaymentScreenSuccessful, p-значение: 0.74\n",
      "Не получилось отвергнуть нулевую гипотезу\n",
      "\n",
      "Проверка для  246+247 и 248, событие: MainScreenAppear, p-значение: 0.29\n",
      "Не получилось отвергнуть нулевую гипотезу\n",
      "\n",
      "Проверка для  246+247 и 248, событие: OffersScreenAppear, p-значение: 0.43\n",
      "Не получилось отвергнуть нулевую гипотезу\n",
      "\n",
      "Проверка для  246+247 и 248, событие: CartScreenAppear, p-значение: 0.18\n",
      "Не получилось отвергнуть нулевую гипотезу\n",
      "\n",
      "Проверка для  246+247 и 248, событие: PaymentScreenSuccessful, p-значение: 0.60\n",
      "Не получилось отвергнуть нулевую гипотезу\n",
      "\n"
     ]
    }
   ],
   "source": [
    "for event in all_funnels.index:\n",
    "    z_test(246, 248, event, 0.01)\n",
    "    print()\n",
    "for event in all_funnels.index:\n",
    "    z_test(247, 248, event, 0.01)\n",
    "    print()\n",
    "for event in all_funnels.index:\n",
    "    z_test('246+247', 248, event, 0.01)\n",
    "    print()"
   ]
  },
  {
   "cell_type": "markdown",
   "metadata": {},
   "source": [
    "При альфа 0,01 мы получаем более точные результаты, чем при 0,05, но учитывая, что количество тестов относительно небольшое, то можно остановиться на 0,05. Но если количество тестов будет в несколько раз больше (количество тестов будет приближаться к 100), то целесообразно перейти на уровень значимости 0,01."
   ]
  },
  {
   "cell_type": "markdown",
   "metadata": {},
   "source": [
    "<div class=\"alert alert-warning\">\n",
    "<b>Комментарий ревьюера: </b> Да, верно! В целом, данный проект построен на задаче множественной проверки гипотез. Данная проблема возникает при проверке нескольких статистических гипотез на одной выборке пользователей. Чем больше тестов мы производим, тем вероятнее допустить ошибку второго рода (отвергнуть нулевую гипотезу, в пользу ложной альтернативной). Для этого случая применяют различные поправки, суть которых заключается в повышении строгости альфа для каждой отдельной гипотезы. Ты можешь прочитать о них больше здесь: <a>https://habr.com/ru/company/yandex/blog/476826/ </a>\n",
    "</div>\n"
   ]
  },
  {
   "cell_type": "markdown",
   "metadata": {},
   "source": [
    "<div class=\"alert alert-info\"> <b>\n",
    "</b> \n",
    "Спасибо! Сделал пометку на будущее. Думаю здесь можно использовать и альфа = 0,1 в случае, если делать поправку, например, Бонферрони. Тогда в цикле добавил:\n",
    "    alpha_bonferroni = alpha / exp_count\n",
    "И сравнение идет уже не \"p_value меньше alpha, а: \n",
    "    pvalue меньше alpha_bonferroni (альфа / на количество экспериментов)   \n",
    "    \n",
    "</div>\n"
   ]
  },
  {
   "cell_type": "markdown",
   "metadata": {},
   "source": [
    "<div class=\"alert alert-success\">\n",
    "<b>Комментарий ревьюера v2: </b> Отличная идея!\n",
    "</div>"
   ]
  },
  {
   "cell_type": "code",
   "execution_count": 78,
   "metadata": {},
   "outputs": [],
   "source": [
    "def z_test_bonferroni(exp1, exp2, event, alpha, exp_count): \n",
    "    p1_ev = all_funnels.loc[event, exp1]\n",
    "    p2_ev = all_funnels.loc[event, exp2] \n",
    "    p1_us = total_users.loc[exp1, 'total_users_in_group'] \n",
    "    p2_us = total_users.loc[exp2, 'total_users_in_group'] \n",
    "    p1 = p1_ev / p1_us \n",
    "    p2 = p2_ev / p2_us \n",
    "    difference = p1 - p2\n",
    "    p_combined = (p1_ev + p2_ev) / (p1_us + p2_us) \n",
    "    z_value = difference / mth.sqrt(p_combined * (1 - p_combined) * (1 / p1_us + 1 / p2_us))\n",
    "    distr = st.norm(0, 1)\n",
    "    p_value = (1 - distr.cdf(abs(z_value))) * 2\n",
    "    print('Проверка для  {} и {}, событие: {}, p-значение: {p_value:.2f}'.format(exp1, exp2, event, p_value=p_value))\n",
    "    alpha_bonferroni = alpha / exp_count\n",
    "    if (p_value < alpha_bonferroni):\n",
    "        print(\"Отвергаем нулевую гипотезу\")\n",
    "    else:\n",
    "        print(\"Не получилось отвергнуть нулевую гипотезу\")"
   ]
  },
  {
   "cell_type": "code",
   "execution_count": 79,
   "metadata": {},
   "outputs": [
    {
     "name": "stdout",
     "output_type": "stream",
     "text": [
      "Проверка для  246 и 248, событие: MainScreenAppear, p-значение: 0.29\n",
      "Не получилось отвергнуть нулевую гипотезу\n",
      "\n",
      "Проверка для  246 и 248, событие: OffersScreenAppear, p-значение: 0.21\n",
      "Не получилось отвергнуть нулевую гипотезу\n",
      "\n",
      "Проверка для  246 и 248, событие: CartScreenAppear, p-значение: 0.08\n",
      "Не получилось отвергнуть нулевую гипотезу\n",
      "\n",
      "Проверка для  246 и 248, событие: PaymentScreenSuccessful, p-значение: 0.21\n",
      "Не получилось отвергнуть нулевую гипотезу\n",
      "\n",
      "Проверка для  247 и 248, событие: MainScreenAppear, p-значение: 0.46\n",
      "Не получилось отвергнуть нулевую гипотезу\n",
      "\n",
      "Проверка для  247 и 248, событие: OffersScreenAppear, p-значение: 0.92\n",
      "Не получилось отвергнуть нулевую гипотезу\n",
      "\n",
      "Проверка для  247 и 248, событие: CartScreenAppear, p-значение: 0.58\n",
      "Не получилось отвергнуть нулевую гипотезу\n",
      "\n",
      "Проверка для  247 и 248, событие: PaymentScreenSuccessful, p-значение: 0.74\n",
      "Не получилось отвергнуть нулевую гипотезу\n",
      "\n",
      "Проверка для  246+247 и 248, событие: MainScreenAppear, p-значение: 0.29\n",
      "Не получилось отвергнуть нулевую гипотезу\n",
      "\n",
      "Проверка для  246+247 и 248, событие: OffersScreenAppear, p-значение: 0.43\n",
      "Не получилось отвергнуть нулевую гипотезу\n",
      "\n",
      "Проверка для  246+247 и 248, событие: CartScreenAppear, p-значение: 0.18\n",
      "Не получилось отвергнуть нулевую гипотезу\n",
      "\n",
      "Проверка для  246+247 и 248, событие: PaymentScreenSuccessful, p-значение: 0.60\n",
      "Не получилось отвергнуть нулевую гипотезу\n",
      "\n"
     ]
    }
   ],
   "source": [
    "for event in all_funnels.index:\n",
    "    z_test_bonferroni(246, 248, event, 0.1, 12)\n",
    "    print()\n",
    "for event in all_funnels.index:\n",
    "    z_test_bonferroni(247, 248, event, 0.1, 12)\n",
    "    print()\n",
    "for event in all_funnels.index:\n",
    "    z_test_bonferroni('246+247', 248, event, 0.1, 12)\n",
    "    print()"
   ]
  },
  {
   "cell_type": "markdown",
   "metadata": {},
   "source": [
    "<div class=\"alert alert-info\"> <b>\n",
    "</b> \n",
    "Да, действительно, с поправкой Бонферрони мы получили точные результаты даже при альфа = 0.1.\n",
    "    \n",
    "</div>\n"
   ]
  },
  {
   "cell_type": "markdown",
   "metadata": {},
   "source": [
    "### Общий вывод: ###\n",
    "\n",
    "Данные собраны с 2019-07-25 по 2019-08-07, но выбранный отрезок актуальных данных начинается с 2019-08-01.\n",
    "\n",
    "Воронка событий выглядит следующим образом: \n",
    "\n",
    "1.\tПользователь заходит на главную страницу (MainScreenAppear).\n",
    "2.\tДалее заходит на экран предложений (OffersScreenAppear).\n",
    "3.\tДалее заходит на страницу оплаты (CartScreenAppear).\n",
    "4.\tДалее совершает успешную покупку (PaymentScreenSuccessful) \n",
    "\n",
    "Всего уникальных пользователей за отчетный период: 7534\n",
    "\n",
    "Уникальных пользователей на каждом этапе воронки: \n",
    "Посетителей главной страницы: 7419 (98.5% от общего числа пользователей)\n",
    "Зашли на страницу предложений: 4593 (61% от общего числа пользователей)\n",
    "Начали оформлять заказ: 3734 (49.6% от общего числа пользователей)\n",
    "Успешно оплатили: 3539 (47% от общего числа пользователей)\n",
    "\n",
    "\n",
    "Пользователи, которые последовательно прошли через все этапы воронки (с учетом последовательности воронки): \n",
    "\n",
    "Посетителей главной страницы: 7419\n",
    "Зашли на страницу предложений: 4201 (56,6% относительно прошлого шага)\n",
    "Начали оформлять заказ: 1767 (42,1% относительно прошлого шага)\n",
    "Успешно оплатили: 454 (25,7% относительно прошлого шага)\n",
    "\n",
    "Значение различаются, следовательно, некоторые пользователи не проходили через все этапы воронки, видимо, используя прямые ссылки.\n",
    "\n",
    "Большая часть пользователей отваливается на шаге от начала оформления заказа до успешной оплаты. Следует проверить корректность работы страницы оплаты.\n",
    "Всего от начала до конца воронки доходит только 6,1% пользователей (с учетом последовательного прохождения всех шагов).\n",
    "\n",
    "\n",
    "Результаты эксперимента: \n",
    "А/А тест: Количество пользователей отличается чуть более, чем на 1%. Тест проведен корректно и в двух группах 246 и 247 нет статистически значимых различий по конверсии в покупку (В двух группах одни и те же события, т.е. данные собираются об одном и том же. Пользователи остаются в одной группе до конца эксперимента. Отличия не такие большие и не имеют статистической значимости.)\n",
    "\n",
    "А/Б тест: в результате поочередного сравнения экспериментальной группы с контрольными, а также с двумя контрольными сразу, нет оснований полагать, что между долями по событиям конверсии есть значимая разница в контрольной и экспериментальной группах при уровне значимости в 0,05. Следовательно, можем считать, что новый шрифт в приложении не имеет статистической значимости для показателей конверсии и не повлиял на них существенным образом.\n",
    "Однако при проверке с уровнем значимости 0,1 в одном из 12 случаев тест дает другой результат (отвергаем нулевую гипотезу о равенстве 246 и 248 групп по событию: заход пользователя на страницу оплаты). \n",
    "Оптимальный уровень значимости для нашего числа тестов – 0,05, т.к. в случае с 0,1, высока вероятность получить ложный результат в 1 из экспериментов. Но если сделать поправку Бонферрони, то можно взять и уровень значимости альфа = 0.1, получив точные данные.\n"
   ]
  },
  {
   "cell_type": "markdown",
   "metadata": {},
   "source": [
    "<div class=\"alert alert-success\">\n",
    "<b>Комментарий ревьюера:</b> Спасибо за подробное исследование!\n",
    "</div>"
   ]
  }
 ],
 "metadata": {
  "kernelspec": {
   "display_name": "Python 3",
   "language": "python",
   "name": "python3"
  },
  "language_info": {
   "codemirror_mode": {
    "name": "ipython",
    "version": 3
   },
   "file_extension": ".py",
   "mimetype": "text/x-python",
   "name": "python",
   "nbconvert_exporter": "python",
   "pygments_lexer": "ipython3",
   "version": "3.8.5"
  },
  "toc": {
   "base_numbering": 1,
   "nav_menu": {},
   "number_sections": true,
   "sideBar": true,
   "skip_h1_title": true,
   "title_cell": "Table of Contents",
   "title_sidebar": "Contents",
   "toc_cell": false,
   "toc_position": {},
   "toc_section_display": true,
   "toc_window_display": false
  }
 },
 "nbformat": 4,
 "nbformat_minor": 2
}
